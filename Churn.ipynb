{
 "cells": [
  {
   "cell_type": "code",
   "execution_count": 2,
   "metadata": {},
   "outputs": [],
   "source": [
    "import warnings\n",
    "warnings.filterwarnings('ignore')\n",
    "\n",
    "import pandas as pd\n",
    "import numpy as np\n",
    "\n",
    "%matplotlib inline\n",
    "import matplotlib.pyplot as plt\n",
    "import seaborn as sb\n",
    "\n",
    "pd.set_option('display.max_columns', None)#display all columns\n",
    "\n"
   ]
  },
  {
   "cell_type": "code",
   "execution_count": 3,
   "metadata": {},
   "outputs": [
    {
     "data": {
      "text/html": [
       "<div>\n",
       "<style scoped>\n",
       "    .dataframe tbody tr th:only-of-type {\n",
       "        vertical-align: middle;\n",
       "    }\n",
       "\n",
       "    .dataframe tbody tr th {\n",
       "        vertical-align: top;\n",
       "    }\n",
       "\n",
       "    .dataframe thead th {\n",
       "        text-align: right;\n",
       "    }\n",
       "</style>\n",
       "<table border=\"1\" class=\"dataframe\">\n",
       "  <thead>\n",
       "    <tr style=\"text-align: right;\">\n",
       "      <th></th>\n",
       "      <th>timestamp</th>\n",
       "      <th>close_equity</th>\n",
       "      <th>user_id</th>\n",
       "    </tr>\n",
       "  </thead>\n",
       "  <tbody>\n",
       "    <tr>\n",
       "      <th>0</th>\n",
       "      <td>2016-11-16T00:00:00Z</td>\n",
       "      <td>48.16</td>\n",
       "      <td>bcef4fa9b0bdf22bcf7deae708decf03</td>\n",
       "    </tr>\n",
       "    <tr>\n",
       "      <th>1</th>\n",
       "      <td>2016-11-17T00:00:00Z</td>\n",
       "      <td>48.16</td>\n",
       "      <td>bcef4fa9b0bdf22bcf7deae708decf03</td>\n",
       "    </tr>\n",
       "    <tr>\n",
       "      <th>2</th>\n",
       "      <td>2016-11-18T00:00:00Z</td>\n",
       "      <td>48.16</td>\n",
       "      <td>bcef4fa9b0bdf22bcf7deae708decf03</td>\n",
       "    </tr>\n",
       "    <tr>\n",
       "      <th>3</th>\n",
       "      <td>2016-11-21T00:00:00Z</td>\n",
       "      <td>48.16</td>\n",
       "      <td>bcef4fa9b0bdf22bcf7deae708decf03</td>\n",
       "    </tr>\n",
       "    <tr>\n",
       "      <th>4</th>\n",
       "      <td>2016-11-22T00:00:00Z</td>\n",
       "      <td>48.16</td>\n",
       "      <td>bcef4fa9b0bdf22bcf7deae708decf03</td>\n",
       "    </tr>\n",
       "  </tbody>\n",
       "</table>\n",
       "</div>"
      ],
      "text/plain": [
       "              timestamp  close_equity                           user_id\n",
       "0  2016-11-16T00:00:00Z         48.16  bcef4fa9b0bdf22bcf7deae708decf03\n",
       "1  2016-11-17T00:00:00Z         48.16  bcef4fa9b0bdf22bcf7deae708decf03\n",
       "2  2016-11-18T00:00:00Z         48.16  bcef4fa9b0bdf22bcf7deae708decf03\n",
       "3  2016-11-21T00:00:00Z         48.16  bcef4fa9b0bdf22bcf7deae708decf03\n",
       "4  2016-11-22T00:00:00Z         48.16  bcef4fa9b0bdf22bcf7deae708decf03"
      ]
     },
     "execution_count": 3,
     "metadata": {},
     "output_type": "execute_result"
    }
   ],
   "source": [
    "checkchurn_df = pd.read_csv('equity_value_data.csv')\n",
    "checkchurn_df.head()"
   ]
  },
  {
   "cell_type": "code",
   "execution_count": 4,
   "metadata": {
    "scrolled": true
   },
   "outputs": [
    {
     "name": "stdout",
     "output_type": "stream",
     "text": [
      "Num of rows: 1048575\n",
      "Num of columns: 3\n"
     ]
    }
   ],
   "source": [
    "print (\"Num of rows: \" + str(checkchurn_df.shape[0])) # row count\n",
    "print (\"Num of columns: \" + str(checkchurn_df.shape[1])) # col count"
   ]
  },
  {
   "cell_type": "code",
   "execution_count": 5,
   "metadata": {},
   "outputs": [],
   "source": [
    "checkchurn_df['date']=checkchurn_df['timestamp'].map(lambda x: x[0:10])\n",
    "\n",
    "checkchurn_df['datetime']=pd.to_datetime(checkchurn_df['date'])\n",
    "\n",
    "#checkchurn_df['seconds']=checkchurn_df['timestamp'].dt.total_seconds()\n"
   ]
  },
  {
   "cell_type": "code",
   "execution_count": 6,
   "metadata": {},
   "outputs": [
    {
     "data": {
      "text/html": [
       "<div>\n",
       "<style scoped>\n",
       "    .dataframe tbody tr th:only-of-type {\n",
       "        vertical-align: middle;\n",
       "    }\n",
       "\n",
       "    .dataframe tbody tr th {\n",
       "        vertical-align: top;\n",
       "    }\n",
       "\n",
       "    .dataframe thead th {\n",
       "        text-align: right;\n",
       "    }\n",
       "</style>\n",
       "<table border=\"1\" class=\"dataframe\">\n",
       "  <thead>\n",
       "    <tr style=\"text-align: right;\">\n",
       "      <th></th>\n",
       "      <th>timestamp</th>\n",
       "      <th>close_equity</th>\n",
       "      <th>user_id</th>\n",
       "      <th>date</th>\n",
       "      <th>datetime</th>\n",
       "    </tr>\n",
       "  </thead>\n",
       "  <tbody>\n",
       "    <tr>\n",
       "      <th>0</th>\n",
       "      <td>2016-11-16T00:00:00Z</td>\n",
       "      <td>48.16</td>\n",
       "      <td>bcef4fa9b0bdf22bcf7deae708decf03</td>\n",
       "      <td>2016-11-16</td>\n",
       "      <td>2016-11-16</td>\n",
       "    </tr>\n",
       "    <tr>\n",
       "      <th>1</th>\n",
       "      <td>2016-11-17T00:00:00Z</td>\n",
       "      <td>48.16</td>\n",
       "      <td>bcef4fa9b0bdf22bcf7deae708decf03</td>\n",
       "      <td>2016-11-17</td>\n",
       "      <td>2016-11-17</td>\n",
       "    </tr>\n",
       "    <tr>\n",
       "      <th>2</th>\n",
       "      <td>2016-11-18T00:00:00Z</td>\n",
       "      <td>48.16</td>\n",
       "      <td>bcef4fa9b0bdf22bcf7deae708decf03</td>\n",
       "      <td>2016-11-18</td>\n",
       "      <td>2016-11-18</td>\n",
       "    </tr>\n",
       "    <tr>\n",
       "      <th>3</th>\n",
       "      <td>2016-11-21T00:00:00Z</td>\n",
       "      <td>48.16</td>\n",
       "      <td>bcef4fa9b0bdf22bcf7deae708decf03</td>\n",
       "      <td>2016-11-21</td>\n",
       "      <td>2016-11-21</td>\n",
       "    </tr>\n",
       "    <tr>\n",
       "      <th>4</th>\n",
       "      <td>2016-11-22T00:00:00Z</td>\n",
       "      <td>48.16</td>\n",
       "      <td>bcef4fa9b0bdf22bcf7deae708decf03</td>\n",
       "      <td>2016-11-22</td>\n",
       "      <td>2016-11-22</td>\n",
       "    </tr>\n",
       "  </tbody>\n",
       "</table>\n",
       "</div>"
      ],
      "text/plain": [
       "              timestamp  close_equity                           user_id  \\\n",
       "0  2016-11-16T00:00:00Z         48.16  bcef4fa9b0bdf22bcf7deae708decf03   \n",
       "1  2016-11-17T00:00:00Z         48.16  bcef4fa9b0bdf22bcf7deae708decf03   \n",
       "2  2016-11-18T00:00:00Z         48.16  bcef4fa9b0bdf22bcf7deae708decf03   \n",
       "3  2016-11-21T00:00:00Z         48.16  bcef4fa9b0bdf22bcf7deae708decf03   \n",
       "4  2016-11-22T00:00:00Z         48.16  bcef4fa9b0bdf22bcf7deae708decf03   \n",
       "\n",
       "         date   datetime  \n",
       "0  2016-11-16 2016-11-16  \n",
       "1  2016-11-17 2016-11-17  \n",
       "2  2016-11-18 2016-11-18  \n",
       "3  2016-11-21 2016-11-21  \n",
       "4  2016-11-22 2016-11-22  "
      ]
     },
     "execution_count": 6,
     "metadata": {},
     "output_type": "execute_result"
    }
   ],
   "source": [
    "checkchurn_df.head()"
   ]
  },
  {
   "cell_type": "code",
   "execution_count": 7,
   "metadata": {},
   "outputs": [
    {
     "name": "stdout",
     "output_type": "stream",
     "text": [
      "293\n"
     ]
    }
   ],
   "source": [
    "res = []\n",
    "\n",
    "for idx in range(len(checkchurn_df.index)-1):\n",
    "    if (checkchurn_df['user_id'][idx] == checkchurn_df['user_id'][idx+1]) and ( (checkchurn_df['datetime'][idx+1] - checkchurn_df['datetime'][idx]).total_seconds()>= int(2419200)):  \n",
    "        \n",
    "        \n",
    "        res.append(checkchurn_df['user_id'][idx])\n",
    "\n",
    "    \n",
    "        \n",
    "print (len(res))\n",
    "    "
   ]
  },
  {
   "cell_type": "code",
   "execution_count": 47,
   "metadata": {},
   "outputs": [
    {
     "name": "stdout",
     "output_type": "stream",
     "text": [
      "252\n"
     ]
    }
   ],
   "source": [
    "s = set(res)\n",
    "print (len(s))"
   ]
  },
  {
   "cell_type": "code",
   "execution_count": 9,
   "metadata": {},
   "outputs": [
    {
     "data": {
      "text/html": [
       "<div>\n",
       "<style scoped>\n",
       "    .dataframe tbody tr th:only-of-type {\n",
       "        vertical-align: middle;\n",
       "    }\n",
       "\n",
       "    .dataframe tbody tr th {\n",
       "        vertical-align: top;\n",
       "    }\n",
       "\n",
       "    .dataframe thead th {\n",
       "        text-align: right;\n",
       "    }\n",
       "</style>\n",
       "<table border=\"1\" class=\"dataframe\">\n",
       "  <thead>\n",
       "    <tr style=\"text-align: right;\">\n",
       "      <th></th>\n",
       "      <th>risk_tolerance</th>\n",
       "      <th>investment_experience</th>\n",
       "      <th>liquidity_needs</th>\n",
       "      <th>platform</th>\n",
       "      <th>time_spent</th>\n",
       "      <th>instrument_type_first_traded</th>\n",
       "      <th>first_deposit_amount</th>\n",
       "      <th>time_horizon</th>\n",
       "      <th>user_id</th>\n",
       "    </tr>\n",
       "  </thead>\n",
       "  <tbody>\n",
       "    <tr>\n",
       "      <th>0</th>\n",
       "      <td>high_risk_tolerance</td>\n",
       "      <td>limited_investment_exp</td>\n",
       "      <td>very_important_liq_need</td>\n",
       "      <td>Android</td>\n",
       "      <td>33.129417</td>\n",
       "      <td>stock</td>\n",
       "      <td>40.0</td>\n",
       "      <td>med_time_horizon</td>\n",
       "      <td>895044c23edc821881e87da749c01034</td>\n",
       "    </tr>\n",
       "    <tr>\n",
       "      <th>1</th>\n",
       "      <td>med_risk_tolerance</td>\n",
       "      <td>limited_investment_exp</td>\n",
       "      <td>very_important_liq_need</td>\n",
       "      <td>Android</td>\n",
       "      <td>16.573517</td>\n",
       "      <td>stock</td>\n",
       "      <td>200.0</td>\n",
       "      <td>short_time_horizon</td>\n",
       "      <td>458b1d95441ced242949deefe8e4b638</td>\n",
       "    </tr>\n",
       "    <tr>\n",
       "      <th>2</th>\n",
       "      <td>med_risk_tolerance</td>\n",
       "      <td>limited_investment_exp</td>\n",
       "      <td>very_important_liq_need</td>\n",
       "      <td>iOS</td>\n",
       "      <td>10.008367</td>\n",
       "      <td>stock</td>\n",
       "      <td>25.0</td>\n",
       "      <td>long_time_horizon</td>\n",
       "      <td>c7936f653d293479e034865db9bb932f</td>\n",
       "    </tr>\n",
       "    <tr>\n",
       "      <th>3</th>\n",
       "      <td>med_risk_tolerance</td>\n",
       "      <td>limited_investment_exp</td>\n",
       "      <td>very_important_liq_need</td>\n",
       "      <td>Android</td>\n",
       "      <td>1.031633</td>\n",
       "      <td>stock</td>\n",
       "      <td>100.0</td>\n",
       "      <td>short_time_horizon</td>\n",
       "      <td>b255d4bd6c9ba194d3a350b3e76c6393</td>\n",
       "    </tr>\n",
       "    <tr>\n",
       "      <th>4</th>\n",
       "      <td>high_risk_tolerance</td>\n",
       "      <td>limited_investment_exp</td>\n",
       "      <td>very_important_liq_need</td>\n",
       "      <td>Android</td>\n",
       "      <td>8.187250</td>\n",
       "      <td>stock</td>\n",
       "      <td>20.0</td>\n",
       "      <td>long_time_horizon</td>\n",
       "      <td>4a168225e89375b8de605cbc0977ae91</td>\n",
       "    </tr>\n",
       "  </tbody>\n",
       "</table>\n",
       "</div>"
      ],
      "text/plain": [
       "        risk_tolerance   investment_experience          liquidity_needs  \\\n",
       "0  high_risk_tolerance  limited_investment_exp  very_important_liq_need   \n",
       "1   med_risk_tolerance  limited_investment_exp  very_important_liq_need   \n",
       "2   med_risk_tolerance  limited_investment_exp  very_important_liq_need   \n",
       "3   med_risk_tolerance  limited_investment_exp  very_important_liq_need   \n",
       "4  high_risk_tolerance  limited_investment_exp  very_important_liq_need   \n",
       "\n",
       "  platform  time_spent instrument_type_first_traded  first_deposit_amount  \\\n",
       "0  Android   33.129417                        stock                  40.0   \n",
       "1  Android   16.573517                        stock                 200.0   \n",
       "2      iOS   10.008367                        stock                  25.0   \n",
       "3  Android    1.031633                        stock                 100.0   \n",
       "4  Android    8.187250                        stock                  20.0   \n",
       "\n",
       "         time_horizon                           user_id  \n",
       "0    med_time_horizon  895044c23edc821881e87da749c01034  \n",
       "1  short_time_horizon  458b1d95441ced242949deefe8e4b638  \n",
       "2   long_time_horizon  c7936f653d293479e034865db9bb932f  \n",
       "3  short_time_horizon  b255d4bd6c9ba194d3a350b3e76c6393  \n",
       "4   long_time_horizon  4a168225e89375b8de605cbc0977ae91  "
      ]
     },
     "execution_count": 9,
     "metadata": {},
     "output_type": "execute_result"
    }
   ],
   "source": [
    "churn_df = pd.read_csv('features_data.csv')\n",
    "churn_df.head()"
   ]
  },
  {
   "cell_type": "code",
   "execution_count": 48,
   "metadata": {},
   "outputs": [
    {
     "name": "stdout",
     "output_type": "stream",
     "text": [
      "Percentage of churned : 4.512893982808023%\n"
     ]
    }
   ],
   "source": [
    "print (\"Percentage of churned : \" + str(100*len(s)/churn_df.shape[0])+'%') "
   ]
  },
  {
   "cell_type": "code",
   "execution_count": 11,
   "metadata": {},
   "outputs": [
    {
     "data": {
      "text/html": [
       "<div>\n",
       "<style scoped>\n",
       "    .dataframe tbody tr th:only-of-type {\n",
       "        vertical-align: middle;\n",
       "    }\n",
       "\n",
       "    .dataframe tbody tr th {\n",
       "        vertical-align: top;\n",
       "    }\n",
       "\n",
       "    .dataframe thead th {\n",
       "        text-align: right;\n",
       "    }\n",
       "</style>\n",
       "<table border=\"1\" class=\"dataframe\">\n",
       "  <thead>\n",
       "    <tr style=\"text-align: right;\">\n",
       "      <th></th>\n",
       "      <th>risk_tolerance</th>\n",
       "      <th>investment_experience</th>\n",
       "      <th>liquidity_needs</th>\n",
       "      <th>platform</th>\n",
       "      <th>time_spent</th>\n",
       "      <th>instrument_type_first_traded</th>\n",
       "      <th>first_deposit_amount</th>\n",
       "      <th>time_horizon</th>\n",
       "      <th>user_id</th>\n",
       "      <th>churn</th>\n",
       "    </tr>\n",
       "  </thead>\n",
       "  <tbody>\n",
       "    <tr>\n",
       "      <th>0</th>\n",
       "      <td>high_risk_tolerance</td>\n",
       "      <td>limited_investment_exp</td>\n",
       "      <td>very_important_liq_need</td>\n",
       "      <td>Android</td>\n",
       "      <td>33.129417</td>\n",
       "      <td>stock</td>\n",
       "      <td>40.0</td>\n",
       "      <td>med_time_horizon</td>\n",
       "      <td>895044c23edc821881e87da749c01034</td>\n",
       "      <td>33.129417</td>\n",
       "    </tr>\n",
       "    <tr>\n",
       "      <th>1</th>\n",
       "      <td>med_risk_tolerance</td>\n",
       "      <td>limited_investment_exp</td>\n",
       "      <td>very_important_liq_need</td>\n",
       "      <td>Android</td>\n",
       "      <td>16.573517</td>\n",
       "      <td>stock</td>\n",
       "      <td>200.0</td>\n",
       "      <td>short_time_horizon</td>\n",
       "      <td>458b1d95441ced242949deefe8e4b638</td>\n",
       "      <td>16.573517</td>\n",
       "    </tr>\n",
       "    <tr>\n",
       "      <th>2</th>\n",
       "      <td>med_risk_tolerance</td>\n",
       "      <td>limited_investment_exp</td>\n",
       "      <td>very_important_liq_need</td>\n",
       "      <td>iOS</td>\n",
       "      <td>10.008367</td>\n",
       "      <td>stock</td>\n",
       "      <td>25.0</td>\n",
       "      <td>long_time_horizon</td>\n",
       "      <td>c7936f653d293479e034865db9bb932f</td>\n",
       "      <td>10.008367</td>\n",
       "    </tr>\n",
       "    <tr>\n",
       "      <th>3</th>\n",
       "      <td>med_risk_tolerance</td>\n",
       "      <td>limited_investment_exp</td>\n",
       "      <td>very_important_liq_need</td>\n",
       "      <td>Android</td>\n",
       "      <td>1.031633</td>\n",
       "      <td>stock</td>\n",
       "      <td>100.0</td>\n",
       "      <td>short_time_horizon</td>\n",
       "      <td>b255d4bd6c9ba194d3a350b3e76c6393</td>\n",
       "      <td>1.031633</td>\n",
       "    </tr>\n",
       "    <tr>\n",
       "      <th>4</th>\n",
       "      <td>high_risk_tolerance</td>\n",
       "      <td>limited_investment_exp</td>\n",
       "      <td>very_important_liq_need</td>\n",
       "      <td>Android</td>\n",
       "      <td>8.187250</td>\n",
       "      <td>stock</td>\n",
       "      <td>20.0</td>\n",
       "      <td>long_time_horizon</td>\n",
       "      <td>4a168225e89375b8de605cbc0977ae91</td>\n",
       "      <td>8.187250</td>\n",
       "    </tr>\n",
       "  </tbody>\n",
       "</table>\n",
       "</div>"
      ],
      "text/plain": [
       "        risk_tolerance   investment_experience          liquidity_needs  \\\n",
       "0  high_risk_tolerance  limited_investment_exp  very_important_liq_need   \n",
       "1   med_risk_tolerance  limited_investment_exp  very_important_liq_need   \n",
       "2   med_risk_tolerance  limited_investment_exp  very_important_liq_need   \n",
       "3   med_risk_tolerance  limited_investment_exp  very_important_liq_need   \n",
       "4  high_risk_tolerance  limited_investment_exp  very_important_liq_need   \n",
       "\n",
       "  platform  time_spent instrument_type_first_traded  first_deposit_amount  \\\n",
       "0  Android   33.129417                        stock                  40.0   \n",
       "1  Android   16.573517                        stock                 200.0   \n",
       "2      iOS   10.008367                        stock                  25.0   \n",
       "3  Android    1.031633                        stock                 100.0   \n",
       "4  Android    8.187250                        stock                  20.0   \n",
       "\n",
       "         time_horizon                           user_id      churn  \n",
       "0    med_time_horizon  895044c23edc821881e87da749c01034  33.129417  \n",
       "1  short_time_horizon  458b1d95441ced242949deefe8e4b638  16.573517  \n",
       "2   long_time_horizon  c7936f653d293479e034865db9bb932f  10.008367  \n",
       "3  short_time_horizon  b255d4bd6c9ba194d3a350b3e76c6393   1.031633  \n",
       "4   long_time_horizon  4a168225e89375b8de605cbc0977ae91   8.187250  "
      ]
     },
     "execution_count": 11,
     "metadata": {},
     "output_type": "execute_result"
    }
   ],
   "source": [
    "churn_df['churn'] = churn_df['time_spent']\n",
    "churn_df.head()"
   ]
  },
  {
   "cell_type": "code",
   "execution_count": 12,
   "metadata": {},
   "outputs": [],
   "source": [
    "for idx in churn_df.index:    \n",
    "    churn_df['churn'][idx] =  1 if churn_df['user_id'][idx] in res else 0"
   ]
  },
  {
   "cell_type": "code",
   "execution_count": 13,
   "metadata": {
    "scrolled": true
   },
   "outputs": [
    {
     "data": {
      "text/html": [
       "<div>\n",
       "<style scoped>\n",
       "    .dataframe tbody tr th:only-of-type {\n",
       "        vertical-align: middle;\n",
       "    }\n",
       "\n",
       "    .dataframe tbody tr th {\n",
       "        vertical-align: top;\n",
       "    }\n",
       "\n",
       "    .dataframe thead th {\n",
       "        text-align: right;\n",
       "    }\n",
       "</style>\n",
       "<table border=\"1\" class=\"dataframe\">\n",
       "  <thead>\n",
       "    <tr style=\"text-align: right;\">\n",
       "      <th></th>\n",
       "      <th>risk_tolerance</th>\n",
       "      <th>investment_experience</th>\n",
       "      <th>liquidity_needs</th>\n",
       "      <th>platform</th>\n",
       "      <th>time_spent</th>\n",
       "      <th>instrument_type_first_traded</th>\n",
       "      <th>first_deposit_amount</th>\n",
       "      <th>time_horizon</th>\n",
       "      <th>user_id</th>\n",
       "      <th>churn</th>\n",
       "    </tr>\n",
       "  </thead>\n",
       "  <tbody>\n",
       "    <tr>\n",
       "      <th>0</th>\n",
       "      <td>high_risk_tolerance</td>\n",
       "      <td>limited_investment_exp</td>\n",
       "      <td>very_important_liq_need</td>\n",
       "      <td>Android</td>\n",
       "      <td>33.129417</td>\n",
       "      <td>stock</td>\n",
       "      <td>40.0</td>\n",
       "      <td>med_time_horizon</td>\n",
       "      <td>895044c23edc821881e87da749c01034</td>\n",
       "      <td>0.0</td>\n",
       "    </tr>\n",
       "    <tr>\n",
       "      <th>1</th>\n",
       "      <td>med_risk_tolerance</td>\n",
       "      <td>limited_investment_exp</td>\n",
       "      <td>very_important_liq_need</td>\n",
       "      <td>Android</td>\n",
       "      <td>16.573517</td>\n",
       "      <td>stock</td>\n",
       "      <td>200.0</td>\n",
       "      <td>short_time_horizon</td>\n",
       "      <td>458b1d95441ced242949deefe8e4b638</td>\n",
       "      <td>0.0</td>\n",
       "    </tr>\n",
       "    <tr>\n",
       "      <th>2</th>\n",
       "      <td>med_risk_tolerance</td>\n",
       "      <td>limited_investment_exp</td>\n",
       "      <td>very_important_liq_need</td>\n",
       "      <td>iOS</td>\n",
       "      <td>10.008367</td>\n",
       "      <td>stock</td>\n",
       "      <td>25.0</td>\n",
       "      <td>long_time_horizon</td>\n",
       "      <td>c7936f653d293479e034865db9bb932f</td>\n",
       "      <td>0.0</td>\n",
       "    </tr>\n",
       "    <tr>\n",
       "      <th>3</th>\n",
       "      <td>med_risk_tolerance</td>\n",
       "      <td>limited_investment_exp</td>\n",
       "      <td>very_important_liq_need</td>\n",
       "      <td>Android</td>\n",
       "      <td>1.031633</td>\n",
       "      <td>stock</td>\n",
       "      <td>100.0</td>\n",
       "      <td>short_time_horizon</td>\n",
       "      <td>b255d4bd6c9ba194d3a350b3e76c6393</td>\n",
       "      <td>0.0</td>\n",
       "    </tr>\n",
       "    <tr>\n",
       "      <th>4</th>\n",
       "      <td>high_risk_tolerance</td>\n",
       "      <td>limited_investment_exp</td>\n",
       "      <td>very_important_liq_need</td>\n",
       "      <td>Android</td>\n",
       "      <td>8.187250</td>\n",
       "      <td>stock</td>\n",
       "      <td>20.0</td>\n",
       "      <td>long_time_horizon</td>\n",
       "      <td>4a168225e89375b8de605cbc0977ae91</td>\n",
       "      <td>0.0</td>\n",
       "    </tr>\n",
       "    <tr>\n",
       "      <th>5</th>\n",
       "      <td>med_risk_tolerance</td>\n",
       "      <td>no_investment_exp</td>\n",
       "      <td>not_important_liq_need</td>\n",
       "      <td>iOS</td>\n",
       "      <td>12.968117</td>\n",
       "      <td>stock</td>\n",
       "      <td>100.0</td>\n",
       "      <td>med_time_horizon</td>\n",
       "      <td>0322b1d744cc89ebbe6ebe70d824d922</td>\n",
       "      <td>0.0</td>\n",
       "    </tr>\n",
       "    <tr>\n",
       "      <th>6</th>\n",
       "      <td>low_risk_tolerance</td>\n",
       "      <td>good_investment_exp</td>\n",
       "      <td>very_important_liq_need</td>\n",
       "      <td>Android</td>\n",
       "      <td>30.710083</td>\n",
       "      <td>stock</td>\n",
       "      <td>5.0</td>\n",
       "      <td>long_time_horizon</td>\n",
       "      <td>f4cac8c1544b723ddedc9bdba81c64c0</td>\n",
       "      <td>1.0</td>\n",
       "    </tr>\n",
       "    <tr>\n",
       "      <th>7</th>\n",
       "      <td>high_risk_tolerance</td>\n",
       "      <td>good_investment_exp</td>\n",
       "      <td>somewhat_important_liq_need</td>\n",
       "      <td>iOS</td>\n",
       "      <td>0.000000</td>\n",
       "      <td>stock</td>\n",
       "      <td>100.0</td>\n",
       "      <td>short_time_horizon</td>\n",
       "      <td>bdc39d2fc664ef9a5e6713168057f892</td>\n",
       "      <td>0.0</td>\n",
       "    </tr>\n",
       "    <tr>\n",
       "      <th>8</th>\n",
       "      <td>high_risk_tolerance</td>\n",
       "      <td>good_investment_exp</td>\n",
       "      <td>very_important_liq_need</td>\n",
       "      <td>iOS</td>\n",
       "      <td>0.000000</td>\n",
       "      <td>stock</td>\n",
       "      <td>5000.0</td>\n",
       "      <td>short_time_horizon</td>\n",
       "      <td>85f2f0f54411b4f3e7a403ba902e7280</td>\n",
       "      <td>0.0</td>\n",
       "    </tr>\n",
       "    <tr>\n",
       "      <th>9</th>\n",
       "      <td>med_risk_tolerance</td>\n",
       "      <td>no_investment_exp</td>\n",
       "      <td>very_important_liq_need</td>\n",
       "      <td>Android</td>\n",
       "      <td>2.969617</td>\n",
       "      <td>stock</td>\n",
       "      <td>11.0</td>\n",
       "      <td>med_time_horizon</td>\n",
       "      <td>529ddd19dac72d55cde8e633340a9aed</td>\n",
       "      <td>0.0</td>\n",
       "    </tr>\n",
       "  </tbody>\n",
       "</table>\n",
       "</div>"
      ],
      "text/plain": [
       "        risk_tolerance   investment_experience              liquidity_needs  \\\n",
       "0  high_risk_tolerance  limited_investment_exp      very_important_liq_need   \n",
       "1   med_risk_tolerance  limited_investment_exp      very_important_liq_need   \n",
       "2   med_risk_tolerance  limited_investment_exp      very_important_liq_need   \n",
       "3   med_risk_tolerance  limited_investment_exp      very_important_liq_need   \n",
       "4  high_risk_tolerance  limited_investment_exp      very_important_liq_need   \n",
       "5   med_risk_tolerance       no_investment_exp       not_important_liq_need   \n",
       "6   low_risk_tolerance     good_investment_exp      very_important_liq_need   \n",
       "7  high_risk_tolerance     good_investment_exp  somewhat_important_liq_need   \n",
       "8  high_risk_tolerance     good_investment_exp      very_important_liq_need   \n",
       "9   med_risk_tolerance       no_investment_exp      very_important_liq_need   \n",
       "\n",
       "  platform  time_spent instrument_type_first_traded  first_deposit_amount  \\\n",
       "0  Android   33.129417                        stock                  40.0   \n",
       "1  Android   16.573517                        stock                 200.0   \n",
       "2      iOS   10.008367                        stock                  25.0   \n",
       "3  Android    1.031633                        stock                 100.0   \n",
       "4  Android    8.187250                        stock                  20.0   \n",
       "5      iOS   12.968117                        stock                 100.0   \n",
       "6  Android   30.710083                        stock                   5.0   \n",
       "7      iOS    0.000000                        stock                 100.0   \n",
       "8      iOS    0.000000                        stock                5000.0   \n",
       "9  Android    2.969617                        stock                  11.0   \n",
       "\n",
       "         time_horizon                           user_id  churn  \n",
       "0    med_time_horizon  895044c23edc821881e87da749c01034    0.0  \n",
       "1  short_time_horizon  458b1d95441ced242949deefe8e4b638    0.0  \n",
       "2   long_time_horizon  c7936f653d293479e034865db9bb932f    0.0  \n",
       "3  short_time_horizon  b255d4bd6c9ba194d3a350b3e76c6393    0.0  \n",
       "4   long_time_horizon  4a168225e89375b8de605cbc0977ae91    0.0  \n",
       "5    med_time_horizon  0322b1d744cc89ebbe6ebe70d824d922    0.0  \n",
       "6   long_time_horizon  f4cac8c1544b723ddedc9bdba81c64c0    1.0  \n",
       "7  short_time_horizon  bdc39d2fc664ef9a5e6713168057f892    0.0  \n",
       "8  short_time_horizon  85f2f0f54411b4f3e7a403ba902e7280    0.0  \n",
       "9    med_time_horizon  529ddd19dac72d55cde8e633340a9aed    0.0  "
      ]
     },
     "execution_count": 13,
     "metadata": {},
     "output_type": "execute_result"
    }
   ],
   "source": [
    "churn_df.head(10)"
   ]
  },
  {
   "cell_type": "code",
   "execution_count": 14,
   "metadata": {},
   "outputs": [
    {
     "data": {
      "text/html": [
       "<div>\n",
       "<style scoped>\n",
       "    .dataframe tbody tr th:only-of-type {\n",
       "        vertical-align: middle;\n",
       "    }\n",
       "\n",
       "    .dataframe tbody tr th {\n",
       "        vertical-align: top;\n",
       "    }\n",
       "\n",
       "    .dataframe thead th {\n",
       "        text-align: right;\n",
       "    }\n",
       "</style>\n",
       "<table border=\"1\" class=\"dataframe\">\n",
       "  <thead>\n",
       "    <tr style=\"text-align: right;\">\n",
       "      <th></th>\n",
       "      <th>Missing Ratio</th>\n",
       "    </tr>\n",
       "  </thead>\n",
       "  <tbody>\n",
       "    <tr>\n",
       "      <th>risk_tolerance</th>\n",
       "      <td>0.0</td>\n",
       "    </tr>\n",
       "    <tr>\n",
       "      <th>investment_experience</th>\n",
       "      <td>0.0</td>\n",
       "    </tr>\n",
       "    <tr>\n",
       "      <th>liquidity_needs</th>\n",
       "      <td>0.0</td>\n",
       "    </tr>\n",
       "    <tr>\n",
       "      <th>platform</th>\n",
       "      <td>0.0</td>\n",
       "    </tr>\n",
       "    <tr>\n",
       "      <th>time_spent</th>\n",
       "      <td>0.0</td>\n",
       "    </tr>\n",
       "    <tr>\n",
       "      <th>instrument_type_first_traded</th>\n",
       "      <td>0.0</td>\n",
       "    </tr>\n",
       "    <tr>\n",
       "      <th>first_deposit_amount</th>\n",
       "      <td>0.0</td>\n",
       "    </tr>\n",
       "    <tr>\n",
       "      <th>time_horizon</th>\n",
       "      <td>0.0</td>\n",
       "    </tr>\n",
       "    <tr>\n",
       "      <th>user_id</th>\n",
       "      <td>0.0</td>\n",
       "    </tr>\n",
       "    <tr>\n",
       "      <th>churn</th>\n",
       "      <td>0.0</td>\n",
       "    </tr>\n",
       "  </tbody>\n",
       "</table>\n",
       "</div>"
      ],
      "text/plain": [
       "                              Missing Ratio\n",
       "risk_tolerance                          0.0\n",
       "investment_experience                   0.0\n",
       "liquidity_needs                         0.0\n",
       "platform                                0.0\n",
       "time_spent                              0.0\n",
       "instrument_type_first_traded            0.0\n",
       "first_deposit_amount                    0.0\n",
       "time_horizon                            0.0\n",
       "user_id                                 0.0\n",
       "churn                                   0.0"
      ]
     },
     "execution_count": 14,
     "metadata": {},
     "output_type": "execute_result"
    }
   ],
   "source": [
    "# Data Cleaning\n",
    "# Now there is the real churn data with lables~\n",
    "#1.check missing data, no missing data\n",
    "all_data_na = (churn_df.isnull().sum() / len(churn_df)) * 100\n",
    "missing_data = pd.DataFrame({'Missing Ratio' :all_data_na})\n",
    "missing_data.head(10)"
   ]
  },
  {
   "cell_type": "code",
   "execution_count": 15,
   "metadata": {},
   "outputs": [],
   "source": [
    "#drop some category features\n",
    "to_drop = ['user_id']\n",
    "churn_drop_df = churn_df.drop(to_drop, axis=1)"
   ]
  },
  {
   "cell_type": "code",
   "execution_count": 16,
   "metadata": {},
   "outputs": [
    {
     "data": {
      "text/html": [
       "<div>\n",
       "<style scoped>\n",
       "    .dataframe tbody tr th:only-of-type {\n",
       "        vertical-align: middle;\n",
       "    }\n",
       "\n",
       "    .dataframe tbody tr th {\n",
       "        vertical-align: top;\n",
       "    }\n",
       "\n",
       "    .dataframe thead th {\n",
       "        text-align: right;\n",
       "    }\n",
       "</style>\n",
       "<table border=\"1\" class=\"dataframe\">\n",
       "  <thead>\n",
       "    <tr style=\"text-align: right;\">\n",
       "      <th></th>\n",
       "      <th>risk_tolerance</th>\n",
       "      <th>investment_experience</th>\n",
       "      <th>liquidity_needs</th>\n",
       "      <th>platform</th>\n",
       "      <th>time_spent</th>\n",
       "      <th>instrument_type_first_traded</th>\n",
       "      <th>first_deposit_amount</th>\n",
       "      <th>time_horizon</th>\n",
       "      <th>churn</th>\n",
       "    </tr>\n",
       "  </thead>\n",
       "  <tbody>\n",
       "    <tr>\n",
       "      <th>0</th>\n",
       "      <td>high_risk_tolerance</td>\n",
       "      <td>limited_investment_exp</td>\n",
       "      <td>very_important_liq_need</td>\n",
       "      <td>Android</td>\n",
       "      <td>33.129417</td>\n",
       "      <td>stock</td>\n",
       "      <td>40.0</td>\n",
       "      <td>med_time_horizon</td>\n",
       "      <td>0.0</td>\n",
       "    </tr>\n",
       "    <tr>\n",
       "      <th>1</th>\n",
       "      <td>med_risk_tolerance</td>\n",
       "      <td>limited_investment_exp</td>\n",
       "      <td>very_important_liq_need</td>\n",
       "      <td>Android</td>\n",
       "      <td>16.573517</td>\n",
       "      <td>stock</td>\n",
       "      <td>200.0</td>\n",
       "      <td>short_time_horizon</td>\n",
       "      <td>0.0</td>\n",
       "    </tr>\n",
       "    <tr>\n",
       "      <th>2</th>\n",
       "      <td>med_risk_tolerance</td>\n",
       "      <td>limited_investment_exp</td>\n",
       "      <td>very_important_liq_need</td>\n",
       "      <td>iOS</td>\n",
       "      <td>10.008367</td>\n",
       "      <td>stock</td>\n",
       "      <td>25.0</td>\n",
       "      <td>long_time_horizon</td>\n",
       "      <td>0.0</td>\n",
       "    </tr>\n",
       "    <tr>\n",
       "      <th>3</th>\n",
       "      <td>med_risk_tolerance</td>\n",
       "      <td>limited_investment_exp</td>\n",
       "      <td>very_important_liq_need</td>\n",
       "      <td>Android</td>\n",
       "      <td>1.031633</td>\n",
       "      <td>stock</td>\n",
       "      <td>100.0</td>\n",
       "      <td>short_time_horizon</td>\n",
       "      <td>0.0</td>\n",
       "    </tr>\n",
       "    <tr>\n",
       "      <th>4</th>\n",
       "      <td>high_risk_tolerance</td>\n",
       "      <td>limited_investment_exp</td>\n",
       "      <td>very_important_liq_need</td>\n",
       "      <td>Android</td>\n",
       "      <td>8.187250</td>\n",
       "      <td>stock</td>\n",
       "      <td>20.0</td>\n",
       "      <td>long_time_horizon</td>\n",
       "      <td>0.0</td>\n",
       "    </tr>\n",
       "    <tr>\n",
       "      <th>5</th>\n",
       "      <td>med_risk_tolerance</td>\n",
       "      <td>no_investment_exp</td>\n",
       "      <td>not_important_liq_need</td>\n",
       "      <td>iOS</td>\n",
       "      <td>12.968117</td>\n",
       "      <td>stock</td>\n",
       "      <td>100.0</td>\n",
       "      <td>med_time_horizon</td>\n",
       "      <td>0.0</td>\n",
       "    </tr>\n",
       "    <tr>\n",
       "      <th>6</th>\n",
       "      <td>low_risk_tolerance</td>\n",
       "      <td>good_investment_exp</td>\n",
       "      <td>very_important_liq_need</td>\n",
       "      <td>Android</td>\n",
       "      <td>30.710083</td>\n",
       "      <td>stock</td>\n",
       "      <td>5.0</td>\n",
       "      <td>long_time_horizon</td>\n",
       "      <td>1.0</td>\n",
       "    </tr>\n",
       "    <tr>\n",
       "      <th>7</th>\n",
       "      <td>high_risk_tolerance</td>\n",
       "      <td>good_investment_exp</td>\n",
       "      <td>somewhat_important_liq_need</td>\n",
       "      <td>iOS</td>\n",
       "      <td>0.000000</td>\n",
       "      <td>stock</td>\n",
       "      <td>100.0</td>\n",
       "      <td>short_time_horizon</td>\n",
       "      <td>0.0</td>\n",
       "    </tr>\n",
       "    <tr>\n",
       "      <th>8</th>\n",
       "      <td>high_risk_tolerance</td>\n",
       "      <td>good_investment_exp</td>\n",
       "      <td>very_important_liq_need</td>\n",
       "      <td>iOS</td>\n",
       "      <td>0.000000</td>\n",
       "      <td>stock</td>\n",
       "      <td>5000.0</td>\n",
       "      <td>short_time_horizon</td>\n",
       "      <td>0.0</td>\n",
       "    </tr>\n",
       "    <tr>\n",
       "      <th>9</th>\n",
       "      <td>med_risk_tolerance</td>\n",
       "      <td>no_investment_exp</td>\n",
       "      <td>very_important_liq_need</td>\n",
       "      <td>Android</td>\n",
       "      <td>2.969617</td>\n",
       "      <td>stock</td>\n",
       "      <td>11.0</td>\n",
       "      <td>med_time_horizon</td>\n",
       "      <td>0.0</td>\n",
       "    </tr>\n",
       "  </tbody>\n",
       "</table>\n",
       "</div>"
      ],
      "text/plain": [
       "        risk_tolerance   investment_experience              liquidity_needs  \\\n",
       "0  high_risk_tolerance  limited_investment_exp      very_important_liq_need   \n",
       "1   med_risk_tolerance  limited_investment_exp      very_important_liq_need   \n",
       "2   med_risk_tolerance  limited_investment_exp      very_important_liq_need   \n",
       "3   med_risk_tolerance  limited_investment_exp      very_important_liq_need   \n",
       "4  high_risk_tolerance  limited_investment_exp      very_important_liq_need   \n",
       "5   med_risk_tolerance       no_investment_exp       not_important_liq_need   \n",
       "6   low_risk_tolerance     good_investment_exp      very_important_liq_need   \n",
       "7  high_risk_tolerance     good_investment_exp  somewhat_important_liq_need   \n",
       "8  high_risk_tolerance     good_investment_exp      very_important_liq_need   \n",
       "9   med_risk_tolerance       no_investment_exp      very_important_liq_need   \n",
       "\n",
       "  platform  time_spent instrument_type_first_traded  first_deposit_amount  \\\n",
       "0  Android   33.129417                        stock                  40.0   \n",
       "1  Android   16.573517                        stock                 200.0   \n",
       "2      iOS   10.008367                        stock                  25.0   \n",
       "3  Android    1.031633                        stock                 100.0   \n",
       "4  Android    8.187250                        stock                  20.0   \n",
       "5      iOS   12.968117                        stock                 100.0   \n",
       "6  Android   30.710083                        stock                   5.0   \n",
       "7      iOS    0.000000                        stock                 100.0   \n",
       "8      iOS    0.000000                        stock                5000.0   \n",
       "9  Android    2.969617                        stock                  11.0   \n",
       "\n",
       "         time_horizon  churn  \n",
       "0    med_time_horizon    0.0  \n",
       "1  short_time_horizon    0.0  \n",
       "2   long_time_horizon    0.0  \n",
       "3  short_time_horizon    0.0  \n",
       "4   long_time_horizon    0.0  \n",
       "5    med_time_horizon    0.0  \n",
       "6   long_time_horizon    1.0  \n",
       "7  short_time_horizon    0.0  \n",
       "8  short_time_horizon    0.0  \n",
       "9    med_time_horizon    0.0  "
      ]
     },
     "execution_count": 16,
     "metadata": {},
     "output_type": "execute_result"
    }
   ],
   "source": [
    "churn_drop_df.head (10)"
   ]
  },
  {
   "cell_type": "code",
   "execution_count": 17,
   "metadata": {},
   "outputs": [],
   "source": [
    "#Label encoding categorical features\n",
    "from sklearn import preprocessing\n",
    "for f in churn_drop_df.columns:\n",
    "#     print(churn_drop_df[f].dtype)\n",
    "    if churn_drop_df[f].dtype != float: \n",
    "        lbl = preprocessing.LabelEncoder()\n",
    "        lbl.fit(list(churn_drop_df[f].values)) \n",
    "        churn_drop_df[f] = lbl.transform(list(churn_drop_df[f].values))"
   ]
  },
  {
   "cell_type": "code",
   "execution_count": 18,
   "metadata": {},
   "outputs": [
    {
     "data": {
      "text/html": [
       "<div>\n",
       "<style scoped>\n",
       "    .dataframe tbody tr th:only-of-type {\n",
       "        vertical-align: middle;\n",
       "    }\n",
       "\n",
       "    .dataframe tbody tr th {\n",
       "        vertical-align: top;\n",
       "    }\n",
       "\n",
       "    .dataframe thead th {\n",
       "        text-align: right;\n",
       "    }\n",
       "</style>\n",
       "<table border=\"1\" class=\"dataframe\">\n",
       "  <thead>\n",
       "    <tr style=\"text-align: right;\">\n",
       "      <th></th>\n",
       "      <th>risk_tolerance</th>\n",
       "      <th>investment_experience</th>\n",
       "      <th>liquidity_needs</th>\n",
       "      <th>platform</th>\n",
       "      <th>time_spent</th>\n",
       "      <th>instrument_type_first_traded</th>\n",
       "      <th>first_deposit_amount</th>\n",
       "      <th>time_horizon</th>\n",
       "      <th>churn</th>\n",
       "    </tr>\n",
       "  </thead>\n",
       "  <tbody>\n",
       "    <tr>\n",
       "      <th>0</th>\n",
       "      <td>0</td>\n",
       "      <td>2</td>\n",
       "      <td>2</td>\n",
       "      <td>0</td>\n",
       "      <td>33.129417</td>\n",
       "      <td>8</td>\n",
       "      <td>40.0</td>\n",
       "      <td>1</td>\n",
       "      <td>0.0</td>\n",
       "    </tr>\n",
       "    <tr>\n",
       "      <th>1</th>\n",
       "      <td>2</td>\n",
       "      <td>2</td>\n",
       "      <td>2</td>\n",
       "      <td>0</td>\n",
       "      <td>16.573517</td>\n",
       "      <td>8</td>\n",
       "      <td>200.0</td>\n",
       "      <td>2</td>\n",
       "      <td>0.0</td>\n",
       "    </tr>\n",
       "    <tr>\n",
       "      <th>2</th>\n",
       "      <td>2</td>\n",
       "      <td>2</td>\n",
       "      <td>2</td>\n",
       "      <td>2</td>\n",
       "      <td>10.008367</td>\n",
       "      <td>8</td>\n",
       "      <td>25.0</td>\n",
       "      <td>0</td>\n",
       "      <td>0.0</td>\n",
       "    </tr>\n",
       "    <tr>\n",
       "      <th>3</th>\n",
       "      <td>2</td>\n",
       "      <td>2</td>\n",
       "      <td>2</td>\n",
       "      <td>0</td>\n",
       "      <td>1.031633</td>\n",
       "      <td>8</td>\n",
       "      <td>100.0</td>\n",
       "      <td>2</td>\n",
       "      <td>0.0</td>\n",
       "    </tr>\n",
       "    <tr>\n",
       "      <th>4</th>\n",
       "      <td>0</td>\n",
       "      <td>2</td>\n",
       "      <td>2</td>\n",
       "      <td>0</td>\n",
       "      <td>8.187250</td>\n",
       "      <td>8</td>\n",
       "      <td>20.0</td>\n",
       "      <td>0</td>\n",
       "      <td>0.0</td>\n",
       "    </tr>\n",
       "    <tr>\n",
       "      <th>5</th>\n",
       "      <td>2</td>\n",
       "      <td>3</td>\n",
       "      <td>0</td>\n",
       "      <td>2</td>\n",
       "      <td>12.968117</td>\n",
       "      <td>8</td>\n",
       "      <td>100.0</td>\n",
       "      <td>1</td>\n",
       "      <td>0.0</td>\n",
       "    </tr>\n",
       "    <tr>\n",
       "      <th>6</th>\n",
       "      <td>1</td>\n",
       "      <td>1</td>\n",
       "      <td>2</td>\n",
       "      <td>0</td>\n",
       "      <td>30.710083</td>\n",
       "      <td>8</td>\n",
       "      <td>5.0</td>\n",
       "      <td>0</td>\n",
       "      <td>1.0</td>\n",
       "    </tr>\n",
       "    <tr>\n",
       "      <th>7</th>\n",
       "      <td>0</td>\n",
       "      <td>1</td>\n",
       "      <td>1</td>\n",
       "      <td>2</td>\n",
       "      <td>0.000000</td>\n",
       "      <td>8</td>\n",
       "      <td>100.0</td>\n",
       "      <td>2</td>\n",
       "      <td>0.0</td>\n",
       "    </tr>\n",
       "    <tr>\n",
       "      <th>8</th>\n",
       "      <td>0</td>\n",
       "      <td>1</td>\n",
       "      <td>2</td>\n",
       "      <td>2</td>\n",
       "      <td>0.000000</td>\n",
       "      <td>8</td>\n",
       "      <td>5000.0</td>\n",
       "      <td>2</td>\n",
       "      <td>0.0</td>\n",
       "    </tr>\n",
       "    <tr>\n",
       "      <th>9</th>\n",
       "      <td>2</td>\n",
       "      <td>3</td>\n",
       "      <td>2</td>\n",
       "      <td>0</td>\n",
       "      <td>2.969617</td>\n",
       "      <td>8</td>\n",
       "      <td>11.0</td>\n",
       "      <td>1</td>\n",
       "      <td>0.0</td>\n",
       "    </tr>\n",
       "  </tbody>\n",
       "</table>\n",
       "</div>"
      ],
      "text/plain": [
       "   risk_tolerance  investment_experience  liquidity_needs  platform  \\\n",
       "0               0                      2                2         0   \n",
       "1               2                      2                2         0   \n",
       "2               2                      2                2         2   \n",
       "3               2                      2                2         0   \n",
       "4               0                      2                2         0   \n",
       "5               2                      3                0         2   \n",
       "6               1                      1                2         0   \n",
       "7               0                      1                1         2   \n",
       "8               0                      1                2         2   \n",
       "9               2                      3                2         0   \n",
       "\n",
       "   time_spent  instrument_type_first_traded  first_deposit_amount  \\\n",
       "0   33.129417                             8                  40.0   \n",
       "1   16.573517                             8                 200.0   \n",
       "2   10.008367                             8                  25.0   \n",
       "3    1.031633                             8                 100.0   \n",
       "4    8.187250                             8                  20.0   \n",
       "5   12.968117                             8                 100.0   \n",
       "6   30.710083                             8                   5.0   \n",
       "7    0.000000                             8                 100.0   \n",
       "8    0.000000                             8                5000.0   \n",
       "9    2.969617                             8                  11.0   \n",
       "\n",
       "   time_horizon  churn  \n",
       "0             1    0.0  \n",
       "1             2    0.0  \n",
       "2             0    0.0  \n",
       "3             2    0.0  \n",
       "4             0    0.0  \n",
       "5             1    0.0  \n",
       "6             0    1.0  \n",
       "7             2    0.0  \n",
       "8             2    0.0  \n",
       "9             1    0.0  "
      ]
     },
     "execution_count": 18,
     "metadata": {},
     "output_type": "execute_result"
    }
   ],
   "source": [
    "churn_drop_df.head (10)"
   ]
  },
  {
   "cell_type": "code",
   "execution_count": 19,
   "metadata": {},
   "outputs": [
    {
     "data": {
      "text/plain": [
       "<matplotlib.axes._subplots.AxesSubplot at 0x286911d7898>"
      ]
     },
     "execution_count": 19,
     "metadata": {},
     "output_type": "execute_result"
    },
    {
     "data": {
      "image/png": "[encoded data removed]",
      "text/plain": [
       "<Figure size 432x288 with 2 Axes>"
      ]
     },
     "metadata": {
      "needs_background": "light"
     },
     "output_type": "display_data"
    }
   ],
   "source": [
    "# check correlation\n",
    "import seaborn as sb\n",
    "corr = churn_drop_df[[\"risk_tolerance\", \"investment_experience\", \"liquidity_needs\",\n",
    "                    \"platform\", \"time_spent\", \"instrument_type_first_traded\",\n",
    "                    \"first_deposit_amount\", \"time_horizon\"]].corr()\n",
    "\n",
    "sb.heatmap(corr)"
   ]
  },
  {
   "cell_type": "code",
   "execution_count": 20,
   "metadata": {},
   "outputs": [
    {
     "data": {
      "text/html": [
       "<div>\n",
       "<style scoped>\n",
       "    .dataframe tbody tr th:only-of-type {\n",
       "        vertical-align: middle;\n",
       "    }\n",
       "\n",
       "    .dataframe tbody tr th {\n",
       "        vertical-align: top;\n",
       "    }\n",
       "\n",
       "    .dataframe thead th {\n",
       "        text-align: right;\n",
       "    }\n",
       "</style>\n",
       "<table border=\"1\" class=\"dataframe\">\n",
       "  <thead>\n",
       "    <tr style=\"text-align: right;\">\n",
       "      <th></th>\n",
       "      <th>risk_tolerance</th>\n",
       "      <th>investment_experience</th>\n",
       "      <th>liquidity_needs</th>\n",
       "      <th>platform</th>\n",
       "      <th>time_spent</th>\n",
       "      <th>instrument_type_first_traded</th>\n",
       "      <th>first_deposit_amount</th>\n",
       "      <th>time_horizon</th>\n",
       "    </tr>\n",
       "  </thead>\n",
       "  <tbody>\n",
       "    <tr>\n",
       "      <th>risk_tolerance</th>\n",
       "      <td>1.000000</td>\n",
       "      <td>0.154137</td>\n",
       "      <td>-0.039705</td>\n",
       "      <td>-0.010369</td>\n",
       "      <td>0.012712</td>\n",
       "      <td>0.029590</td>\n",
       "      <td>-0.035942</td>\n",
       "      <td>0.117339</td>\n",
       "    </tr>\n",
       "    <tr>\n",
       "      <th>investment_experience</th>\n",
       "      <td>0.154137</td>\n",
       "      <td>1.000000</td>\n",
       "      <td>-0.053162</td>\n",
       "      <td>0.038527</td>\n",
       "      <td>-0.018126</td>\n",
       "      <td>0.086380</td>\n",
       "      <td>-0.127102</td>\n",
       "      <td>0.124193</td>\n",
       "    </tr>\n",
       "    <tr>\n",
       "      <th>liquidity_needs</th>\n",
       "      <td>-0.039705</td>\n",
       "      <td>-0.053162</td>\n",
       "      <td>1.000000</td>\n",
       "      <td>-0.312615</td>\n",
       "      <td>-0.011965</td>\n",
       "      <td>-0.004097</td>\n",
       "      <td>0.016838</td>\n",
       "      <td>-0.011693</td>\n",
       "    </tr>\n",
       "    <tr>\n",
       "      <th>platform</th>\n",
       "      <td>-0.010369</td>\n",
       "      <td>0.038527</td>\n",
       "      <td>-0.312615</td>\n",
       "      <td>1.000000</td>\n",
       "      <td>-0.027540</td>\n",
       "      <td>-0.033716</td>\n",
       "      <td>0.004971</td>\n",
       "      <td>0.031035</td>\n",
       "    </tr>\n",
       "    <tr>\n",
       "      <th>time_spent</th>\n",
       "      <td>0.012712</td>\n",
       "      <td>-0.018126</td>\n",
       "      <td>-0.011965</td>\n",
       "      <td>-0.027540</td>\n",
       "      <td>1.000000</td>\n",
       "      <td>0.010978</td>\n",
       "      <td>-0.000770</td>\n",
       "      <td>-0.014316</td>\n",
       "    </tr>\n",
       "    <tr>\n",
       "      <th>instrument_type_first_traded</th>\n",
       "      <td>0.029590</td>\n",
       "      <td>0.086380</td>\n",
       "      <td>-0.004097</td>\n",
       "      <td>-0.033716</td>\n",
       "      <td>0.010978</td>\n",
       "      <td>1.000000</td>\n",
       "      <td>-0.025246</td>\n",
       "      <td>0.053856</td>\n",
       "    </tr>\n",
       "    <tr>\n",
       "      <th>first_deposit_amount</th>\n",
       "      <td>-0.035942</td>\n",
       "      <td>-0.127102</td>\n",
       "      <td>0.016838</td>\n",
       "      <td>0.004971</td>\n",
       "      <td>-0.000770</td>\n",
       "      <td>-0.025246</td>\n",
       "      <td>1.000000</td>\n",
       "      <td>-0.006896</td>\n",
       "    </tr>\n",
       "    <tr>\n",
       "      <th>time_horizon</th>\n",
       "      <td>0.117339</td>\n",
       "      <td>0.124193</td>\n",
       "      <td>-0.011693</td>\n",
       "      <td>0.031035</td>\n",
       "      <td>-0.014316</td>\n",
       "      <td>0.053856</td>\n",
       "      <td>-0.006896</td>\n",
       "      <td>1.000000</td>\n",
       "    </tr>\n",
       "  </tbody>\n",
       "</table>\n",
       "</div>"
      ],
      "text/plain": [
       "                              risk_tolerance  investment_experience  \\\n",
       "risk_tolerance                      1.000000               0.154137   \n",
       "investment_experience               0.154137               1.000000   \n",
       "liquidity_needs                    -0.039705              -0.053162   \n",
       "platform                           -0.010369               0.038527   \n",
       "time_spent                          0.012712              -0.018126   \n",
       "instrument_type_first_traded        0.029590               0.086380   \n",
       "first_deposit_amount               -0.035942              -0.127102   \n",
       "time_horizon                        0.117339               0.124193   \n",
       "\n",
       "                              liquidity_needs  platform  time_spent  \\\n",
       "risk_tolerance                      -0.039705 -0.010369    0.012712   \n",
       "investment_experience               -0.053162  0.038527   -0.018126   \n",
       "liquidity_needs                      1.000000 -0.312615   -0.011965   \n",
       "platform                            -0.312615  1.000000   -0.027540   \n",
       "time_spent                          -0.011965 -0.027540    1.000000   \n",
       "instrument_type_first_traded        -0.004097 -0.033716    0.010978   \n",
       "first_deposit_amount                 0.016838  0.004971   -0.000770   \n",
       "time_horizon                        -0.011693  0.031035   -0.014316   \n",
       "\n",
       "                              instrument_type_first_traded  \\\n",
       "risk_tolerance                                    0.029590   \n",
       "investment_experience                             0.086380   \n",
       "liquidity_needs                                  -0.004097   \n",
       "platform                                         -0.033716   \n",
       "time_spent                                        0.010978   \n",
       "instrument_type_first_traded                      1.000000   \n",
       "first_deposit_amount                             -0.025246   \n",
       "time_horizon                                      0.053856   \n",
       "\n",
       "                              first_deposit_amount  time_horizon  \n",
       "risk_tolerance                           -0.035942      0.117339  \n",
       "investment_experience                    -0.127102      0.124193  \n",
       "liquidity_needs                           0.016838     -0.011693  \n",
       "platform                                  0.004971      0.031035  \n",
       "time_spent                               -0.000770     -0.014316  \n",
       "instrument_type_first_traded             -0.025246      0.053856  \n",
       "first_deposit_amount                      1.000000     -0.006896  \n",
       "time_horizon                             -0.006896      1.000000  "
      ]
     },
     "execution_count": 20,
     "metadata": {},
     "output_type": "execute_result"
    }
   ],
   "source": [
    "corr\n",
    "#seems need to keep all categorical features."
   ]
  },
  {
   "cell_type": "code",
   "execution_count": 21,
   "metadata": {},
   "outputs": [
    {
     "name": "stdout",
     "output_type": "stream",
     "text": [
      "Feature space holds 5584 observations and 8 features\n"
     ]
    },
    {
     "name": "stderr",
     "output_type": "stream",
     "text": [
      "C:\\anaconda\\envs\\laidata2\\lib\\site-packages\\sklearn\\preprocessing\\data.py:625: DataConversionWarning: Data with input dtype int64, float64 were all converted to float64 by StandardScaler.\n",
      "  return self.partial_fit(X, y)\n",
      "C:\\anaconda\\envs\\laidata2\\lib\\site-packages\\sklearn\\base.py:462: DataConversionWarning: Data with input dtype int64, float64 were all converted to float64 by StandardScaler.\n",
      "  return self.fit(X, **fit_params).transform(X)\n"
     ]
    }
   ],
   "source": [
    "X = churn_drop_df.drop('churn', axis=1)\n",
    "# Scale the data\n",
    "from sklearn.preprocessing import StandardScaler\n",
    "scaler = StandardScaler()\n",
    "X = scaler.fit_transform(X)\n",
    "\n",
    "print (\"Feature space holds %d observations and %d features\" % X.shape)"
   ]
  },
  {
   "cell_type": "code",
   "execution_count": 22,
   "metadata": {},
   "outputs": [
    {
     "data": {
      "text/plain": [
       "array([[-0.73547285, -0.1208865 ,  0.53243732, ...,  0.36795819,\n",
       "        -0.28023105, -0.19978059],\n",
       "       [ 1.42775095, -0.1208865 ,  0.53243732, ...,  0.36795819,\n",
       "        -0.20469285,  0.9157942 ],\n",
       "       [ 1.42775095, -0.1208865 ,  0.53243732, ...,  0.36795819,\n",
       "        -0.28731276, -1.31535538],\n",
       "       ...,\n",
       "       [ 1.42775095,  1.20270212,  0.53243732, ...,  0.36795819,\n",
       "        -0.27550992,  0.9157942 ],\n",
       "       [ 1.42775095, -0.1208865 , -1.29718113, ...,  0.36795819,\n",
       "        -0.25190423, -1.31535538],\n",
       "       [-0.73547285, -0.1208865 , -1.29718113, ...,  0.36795819,\n",
       "        -0.27550992, -1.31535538]])"
      ]
     },
     "execution_count": 22,
     "metadata": {},
     "output_type": "execute_result"
    }
   ],
   "source": [
    "X"
   ]
  },
  {
   "cell_type": "code",
   "execution_count": 23,
   "metadata": {},
   "outputs": [],
   "source": [
    "# Get ground truth data\n",
    "y = churn_drop_df['churn'] \n",
    "#print(y)"
   ]
  },
  {
   "cell_type": "code",
   "execution_count": 24,
   "metadata": {},
   "outputs": [
    {
     "name": "stdout",
     "output_type": "stream",
     "text": [
      "training data has 4467 observation with 8 features\n",
      "test data has 1117 observation with 8 features\n"
     ]
    }
   ],
   "source": [
    "#Split dataset\n",
    "from sklearn import model_selection\n",
    "X_train, X_test, y_train, y_test = model_selection.train_test_split(X, y, test_size=0.2)\n",
    "\n",
    "print('training data has %d observation with %d features'% X_train.shape)\n",
    "print('test data has %d observation with %d features'% X_test.shape)"
   ]
  },
  {
   "cell_type": "code",
   "execution_count": null,
   "metadata": {
    "scrolled": true
   },
   "outputs": [],
   "source": [
    "# #SMOTE sampling\n",
    "# from imblearn.over_sampling import SMOTE"
   ]
  },
  {
   "cell_type": "code",
   "execution_count": 26,
   "metadata": {},
   "outputs": [],
   "source": [
    "#model training and selection\n",
    "from sklearn.ensemble import RandomForestClassifier\n",
    "from sklearn.neighbors import KNeighborsClassifier \n",
    "from sklearn.linear_model import LogisticRegression\n",
    "\n",
    "classifier_logistic = LogisticRegression()\n",
    "classifier_KNN = KNeighborsClassifier()\n",
    "classifier_RF = RandomForestClassifier()"
   ]
  },
  {
   "cell_type": "code",
   "execution_count": 27,
   "metadata": {},
   "outputs": [
    {
     "name": "stdout",
     "output_type": "stream",
     "text": [
      "Model accuracy of Logistic Regression is: 0.957\n",
      "Model accuracy of KNN is: 0.956\n",
      "Model accuracy of Random Forest is: 0.955\n"
     ]
    }
   ],
   "source": [
    "model_names = ['Logistic Regression','KNN','Random Forest']\n",
    "model_list = [classifier_logistic, classifier_KNN, classifier_RF]\n",
    "count = 0\n",
    "for classifier in model_list:\n",
    "    cv_score = model_selection.cross_val_score(classifier, X_train, y_train, cv=5)\n",
    "    print('Model accuracy of %s is: %.3f'%(model_names[count],cv_score.mean()))\n",
    "    count += 1"
   ]
  },
  {
   "cell_type": "code",
   "execution_count": 28,
   "metadata": {},
   "outputs": [],
   "source": [
    "#find best parameter of Logistic Regression\n",
    "from sklearn.model_selection import GridSearchCV\n",
    "def print_grid_search_metrics(gs):\n",
    "    print (\"Best score: %0.3f\" % gs.best_score_)\n",
    "    print (\"Best parameters set:\")\n",
    "    best_parameters = gs.best_params_\n",
    "    for param_name in sorted(parameters.keys()):\n",
    "        print(\"\\t%s: %r\" % (param_name, best_parameters[param_name]))"
   ]
  },
  {
   "cell_type": "code",
   "execution_count": 29,
   "metadata": {},
   "outputs": [
    {
     "data": {
      "text/plain": [
       "GridSearchCV(cv=5, error_score='raise-deprecating',\n",
       "       estimator=LogisticRegression(C=1.0, class_weight=None, dual=False, fit_intercept=True,\n",
       "          intercept_scaling=1, max_iter=100, multi_class='warn',\n",
       "          n_jobs=None, penalty='l2', random_state=None, solver='warn',\n",
       "          tol=0.0001, verbose=0, warm_start=False),\n",
       "       fit_params=None, iid='warn', n_jobs=None,\n",
       "       param_grid={'penalty': ('l1', 'l2'), 'C': (1, 2, 4, 7, 10)},\n",
       "       pre_dispatch='2*n_jobs', refit=True, return_train_score='warn',\n",
       "       scoring=None, verbose=0)"
      ]
     },
     "execution_count": 29,
     "metadata": {},
     "output_type": "execute_result"
    }
   ],
   "source": [
    "parameters = {\n",
    "    'penalty':('l1', 'l2'), \n",
    "    'C':(1, 2, 4, 7, 10)\n",
    "}\n",
    "Grid_LR = GridSearchCV(LogisticRegression(),parameters, cv=5)\n",
    "Grid_LR.fit(X_train, y_train)"
   ]
  },
  {
   "cell_type": "code",
   "execution_count": 30,
   "metadata": {},
   "outputs": [
    {
     "name": "stdout",
     "output_type": "stream",
     "text": [
      "Best score: 0.957\n",
      "Best parameters set:\n",
      "\tC: 1\n",
      "\tpenalty: 'l1'\n"
     ]
    }
   ],
   "source": [
    "print_grid_search_metrics(Grid_LR)"
   ]
  },
  {
   "cell_type": "code",
   "execution_count": 31,
   "metadata": {},
   "outputs": [],
   "source": [
    "best_LR_model = Grid_LR.best_estimator_"
   ]
  },
  {
   "cell_type": "code",
   "execution_count": 32,
   "metadata": {},
   "outputs": [
    {
     "data": {
      "text/plain": [
       "GridSearchCV(cv=5, error_score='raise-deprecating',\n",
       "       estimator=KNeighborsClassifier(algorithm='auto', leaf_size=30, metric='minkowski',\n",
       "           metric_params=None, n_jobs=None, n_neighbors=5, p=2,\n",
       "           weights='uniform'),\n",
       "       fit_params=None, iid='warn', n_jobs=None,\n",
       "       param_grid={'n_neighbors': [3, 5, 7, 10, 15]},\n",
       "       pre_dispatch='2*n_jobs', refit=True, return_train_score='warn',\n",
       "       scoring=None, verbose=0)"
      ]
     },
     "execution_count": 32,
     "metadata": {},
     "output_type": "execute_result"
    }
   ],
   "source": [
    "#Find Optimal Hyperparameters: KNN\n",
    "parameters = {\n",
    "    'n_neighbors':[3,5,7,10,15] \n",
    "}\n",
    "Grid_KNN = GridSearchCV(KNeighborsClassifier(),parameters, cv=5)\n",
    "Grid_KNN.fit(X_train, y_train)"
   ]
  },
  {
   "cell_type": "code",
   "execution_count": 33,
   "metadata": {},
   "outputs": [
    {
     "name": "stdout",
     "output_type": "stream",
     "text": [
      "Best score: 0.957\n",
      "Best parameters set:\n",
      "\tn_neighbors: 10\n"
     ]
    }
   ],
   "source": [
    "print_grid_search_metrics(Grid_KNN)"
   ]
  },
  {
   "cell_type": "code",
   "execution_count": 34,
   "metadata": {},
   "outputs": [
    {
     "data": {
      "text/plain": [
       "GridSearchCV(cv=5, error_score='raise-deprecating',\n",
       "       estimator=RandomForestClassifier(bootstrap=True, class_weight=None, criterion='gini',\n",
       "            max_depth=None, max_features='auto', max_leaf_nodes=None,\n",
       "            min_impurity_decrease=0.0, min_impurity_split=None,\n",
       "            min_samples_leaf=1, min_samples_split=2,\n",
       "            min_weight_fraction_leaf=0.0, n_estimators='warn', n_jobs=None,\n",
       "            oob_score=False, random_state=None, verbose=0,\n",
       "            warm_start=False),\n",
       "       fit_params=None, iid='warn', n_jobs=None,\n",
       "       param_grid={'n_estimators': [20, 40, 60, 80]},\n",
       "       pre_dispatch='2*n_jobs', refit=True, return_train_score='warn',\n",
       "       scoring=None, verbose=0)"
      ]
     },
     "execution_count": 34,
     "metadata": {},
     "output_type": "execute_result"
    }
   ],
   "source": [
    "#Find Optimal Hyperparameters: Random Forest\n",
    "parameters = {\n",
    "    'n_estimators' : [20,40,60,80]\n",
    "}\n",
    "Grid_RF = GridSearchCV(RandomForestClassifier(),parameters, cv=5)\n",
    "Grid_RF.fit(X_train, y_train)"
   ]
  },
  {
   "cell_type": "code",
   "execution_count": 35,
   "metadata": {},
   "outputs": [
    {
     "name": "stdout",
     "output_type": "stream",
     "text": [
      "Best score: 0.956\n",
      "Best parameters set:\n",
      "\tn_estimators: 60\n"
     ]
    }
   ],
   "source": [
    "print_grid_search_metrics(Grid_RF)"
   ]
  },
  {
   "cell_type": "code",
   "execution_count": 36,
   "metadata": {},
   "outputs": [],
   "source": [
    "best_RF_model = Grid_RF.best_estimator_"
   ]
  },
  {
   "cell_type": "code",
   "execution_count": 37,
   "metadata": {},
   "outputs": [],
   "source": [
    "#Model Evaluation\n",
    "from sklearn.metrics import confusion_matrix\n",
    "from sklearn.metrics import precision_score\n",
    "from sklearn.metrics import recall_score\n",
    "\n",
    "def cal_evaluation(classifier, cm):\n",
    "    tn = cm[0][0]\n",
    "    fp = cm[0][1]\n",
    "    fn = cm[1][0]\n",
    "    tp = cm[1][1]\n",
    "    accuracy  = (tp + tn) / (tp + fp + fn + tn + 0.0)\n",
    "    precision = tp / (tp + fp + 0.0)\n",
    "    recall = tp / (tp + fn + 0.0)\n",
    "    print (classifier)\n",
    "    print (\"Accuracy is: %0.3f\" % accuracy)\n",
    "    print (\"precision is: %0.3f\" % precision)\n",
    "    print (\"recall is: %0.3f\" % recall)\n",
    "\n",
    "def draw_confusion_matrices(confusion_matricies):\n",
    "    class_names = ['Not','Churn']\n",
    "    for cm in confusion_matrices:\n",
    "        classifier, cm = cm[0], cm[1]\n",
    "        cal_evaluation(classifier, cm)\n",
    "        fig = plt.figure()\n",
    "        ax = fig.add_subplot(111)\n",
    "        cax = ax.matshow(cm, interpolation='nearest',cmap=plt.get_cmap('Reds'))\n",
    "        plt.title('Confusion matrix for %s' % classifier)\n",
    "        fig.colorbar(cax)\n",
    "        ax.set_xticklabels([''] + class_names)\n",
    "        ax.set_yticklabels([''] + class_names)\n",
    "        plt.xlabel('Predicted')\n",
    "        plt.ylabel('True')\n",
    "        plt.show()"
   ]
  },
  {
   "cell_type": "code",
   "execution_count": 38,
   "metadata": {},
   "outputs": [
    {
     "name": "stdout",
     "output_type": "stream",
     "text": [
      "Random Forest\n",
      "Accuracy is: 0.939\n",
      "precision is: 0.000\n",
      "recall is: 0.000\n"
     ]
    },
    {
     "data": {
      "image/png": "[encoded data removed]",
      "text/plain": [
       "<Figure size 432x288 with 2 Axes>"
      ]
     },
     "metadata": {
      "needs_background": "light"
     },
     "output_type": "display_data"
    },
    {
     "name": "stdout",
     "output_type": "stream",
     "text": [
      "Logistic Regression\n",
      "Accuracy is: 0.944\n",
      "precision is: nan\n",
      "recall is: 0.000\n"
     ]
    },
    {
     "data": {
      "image/png": "[encoded data removed]",
      "text/plain": [
       "<Figure size 432x288 with 2 Axes>"
      ]
     },
     "metadata": {
      "needs_background": "light"
     },
     "output_type": "display_data"
    }
   ],
   "source": [
    "%matplotlib inline\n",
    "\n",
    "confusion_matrices = [\n",
    "    (\"Random Forest\", confusion_matrix(y_test,best_RF_model.predict(X_test))),\n",
    "    (\"Logistic Regression\", confusion_matrix(y_test,best_LR_model.predict(X_test))),\n",
    "]\n",
    "\n",
    "draw_confusion_matrices(confusion_matrices)"
   ]
  },
  {
   "cell_type": "code",
   "execution_count": 39,
   "metadata": {},
   "outputs": [
    {
     "data": {
      "image/png": "[encoded data removed]",
      "text/plain": [
       "<Figure size 432x288 with 1 Axes>"
      ]
     },
     "metadata": {
      "needs_background": "light"
     },
     "output_type": "display_data"
    }
   ],
   "source": [
    "#ROC of RF Model\n",
    "from sklearn.metrics import roc_curve\n",
    "from sklearn import metrics\n",
    "y_pred_rf = best_RF_model.predict_proba(X_test)[:, 1]\n",
    "fpr_rf, tpr_rf, _ = roc_curve(y_test, y_pred_rf)\n",
    "plt.figure(1)\n",
    "plt.plot([0, 1], [0, 1], 'k--')\n",
    "plt.plot(fpr_rf, tpr_rf, label='RF')\n",
    "plt.xlabel('False positive rate')\n",
    "plt.ylabel('True positive rate')\n",
    "plt.title('ROC curve - RF model')\n",
    "plt.legend(loc='best')\n",
    "plt.show()"
   ]
  },
  {
   "cell_type": "code",
   "execution_count": 40,
   "metadata": {},
   "outputs": [
    {
     "data": {
      "text/plain": [
       "0.5454823421495184"
      ]
     },
     "execution_count": 40,
     "metadata": {},
     "output_type": "execute_result"
    }
   ],
   "source": [
    "from sklearn import metrics\n",
    "metrics.auc(fpr_rf,tpr_rf)"
   ]
  },
  {
   "cell_type": "code",
   "execution_count": 41,
   "metadata": {},
   "outputs": [
    {
     "data": {
      "image/png": "[encoded data removed]",
      "text/plain": [
       "<Figure size 432x288 with 1 Axes>"
      ]
     },
     "metadata": {
      "needs_background": "light"
     },
     "output_type": "display_data"
    }
   ],
   "source": [
    "#ROC of LR Model\n",
    "y_pred_lr = best_LR_model.predict_proba(X_test)[:, 1]\n",
    "fpr_lr, tpr_lr, _ = roc_curve(y_test, y_pred_lr)\n",
    "plt.figure(1)\n",
    "plt.plot([0, 1], [0, 1], 'k--')\n",
    "plt.plot(fpr_lr, tpr_lr, label='LR')\n",
    "plt.xlabel('False positive rate')\n",
    "plt.ylabel('True positive rate')\n",
    "plt.title('ROC curve - LR Model')\n",
    "plt.legend(loc='best')\n",
    "plt.show()"
   ]
  },
  {
   "cell_type": "code",
   "execution_count": 42,
   "metadata": {},
   "outputs": [
    {
     "data": {
      "text/plain": [
       "0.5750726188656169"
      ]
     },
     "execution_count": 42,
     "metadata": {},
     "output_type": "execute_result"
    }
   ],
   "source": [
    "metrics.auc(fpr_lr,tpr_lr)"
   ]
  },
  {
   "cell_type": "code",
   "execution_count": 43,
   "metadata": {},
   "outputs": [
    {
     "name": "stdout",
     "output_type": "stream",
     "text": [
      "Logistic Regression (L1) Coefficients\n",
      "first_deposit_amount: -0.34781\n",
      "risk_tolerance: 0.17949\n",
      "platform: -0.12407\n",
      "liquidity_needs: -0.06094\n",
      "time_spent: -0.03134\n",
      "time_horizon: 0.02943\n",
      "instrument_type_first_traded: 0.02537\n",
      "investment_experience: -0.00785\n"
     ]
    }
   ],
   "source": [
    "#Feature Selection Discussion\n",
    "LRmodel_l1 = LogisticRegression(penalty=\"l1\")\n",
    "LRmodel_l1.fit(X, y)\n",
    "LRmodel_l1.coef_[0]\n",
    "print (\"Logistic Regression (L1) Coefficients\")\n",
    "for k,v in sorted(zip(map(lambda x: round(x, 5), LRmodel_l1.coef_[0]), \\\n",
    "                      churn_drop_df), key=lambda k_v:(-abs(k_v[0]),k_v[1])):\n",
    "    print (v + \": \" + str(k))"
   ]
  },
  {
   "cell_type": "code",
   "execution_count": 44,
   "metadata": {},
   "outputs": [
    {
     "name": "stdout",
     "output_type": "stream",
     "text": [
      "Logistic Regression (L2) Coefficients\n",
      "first_deposit_amount: -0.36029\n",
      "risk_tolerance: 0.18122\n",
      "platform: -0.12859\n",
      "liquidity_needs: -0.06616\n",
      "time_spent: -0.0425\n",
      "time_horizon: 0.03338\n",
      "instrument_type_first_traded: 0.02941\n",
      "investment_experience: -0.01441\n"
     ]
    }
   ],
   "source": [
    "LRmodel_l2 = LogisticRegression(penalty=\"l2\")\n",
    "LRmodel_l2.fit(X, y)\n",
    "LRmodel_l2.coef_[0]\n",
    "print (\"Logistic Regression (L2) Coefficients\")\n",
    "for k,v in sorted(zip(map(lambda x: round(x, 5), LRmodel_l2.coef_[0]), \\\n",
    "                      churn_drop_df.columns), key=lambda k_v:(-abs(k_v[0]),k_v[1])):\n",
    "    print (v + \": \" + str(k))"
   ]
  },
  {
   "cell_type": "code",
   "execution_count": 45,
   "metadata": {},
   "outputs": [
    {
     "name": "stdout",
     "output_type": "stream",
     "text": [
      "Feature importance ranking by Random Forest Model:\n",
      "time_spent: 0.5144\n",
      "first_deposit_amount: 0.2273\n",
      "investment_experience: 0.0512\n",
      "time_horizon: 0.0491\n",
      "risk_tolerance: 0.0454\n",
      "platform: 0.0393\n",
      "liquidity_needs: 0.0376\n",
      "instrument_type_first_traded: 0.0357\n"
     ]
    }
   ],
   "source": [
    "forest = RandomForestClassifier()\n",
    "forest.fit(X, y)\n",
    "\n",
    "importances = forest.feature_importances_\n",
    "\n",
    "# Print the feature ranking\n",
    "print(\"Feature importance ranking by Random Forest Model:\")\n",
    "for k,v in sorted(zip(map(lambda x: round(x, 4), importances), churn_drop_df.columns), reverse=True):\n",
    "    print (v + \": \" + str(k))"
   ]
  },
  {
   "cell_type": "code",
   "execution_count": null,
   "metadata": {},
   "outputs": [],
   "source": []
  }
 ],
 "metadata": {
  "kernelspec": {
   "display_name": "Python 3",
   "language": "python",
   "name": "python3"
  },
  "language_info": {
   "codemirror_mode": {
    "name": "ipython",
    "version": 3
   },
   "file_extension": ".py",
   "mimetype": "text/x-python",
   "name": "python",
   "nbconvert_exporter": "python",
   "pygments_lexer": "ipython3",
   "version": "3.6.7"
  }
 },
 "nbformat": 4,
 "nbformat_minor": 2
}

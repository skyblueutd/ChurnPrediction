{
  "nbformat": 4,
  "nbformat_minor": 0,
  "metadata": {
    "kernelspec": {
      "display_name": "Python 3",
      "language": "python",
      "name": "python3"
    },
    "language_info": {
      "codemirror_mode": {
        "name": "ipython",
        "version": 3
      },
      "file_extension": ".py",
      "mimetype": "text/x-python",
      "name": "python",
      "nbconvert_exporter": "python",
      "pygments_lexer": "ipython3",
      "version": "3.6.7"
    },
    "colab": {
      "name": "robinhoodnew.ipynb",
      "provenance": [],
      "collapsed_sections": []
    }
  },
  "cells": [
    {
      "cell_type": "code",
      "metadata": {
        "id": "Gz0SpFqZ-ObU",
        "colab_type": "code",
        "colab": {}
      },
      "source": [
        "import warnings\n",
        "warnings.filterwarnings('ignore')\n",
        "\n",
        "import pandas as pd\n",
        "import numpy as np\n",
        "\n",
        "%matplotlib inline\n",
        "import matplotlib.pyplot as plt\n",
        "import seaborn as sb\n",
        "\n",
        "pd.set_option('display.max_columns', None)#display all columns\n",
        "\n"
      ],
      "execution_count": 0,
      "outputs": []
    },
    {
      "cell_type": "code",
      "metadata": {
        "id": "3W29aGnE-gyl",
        "colab_type": "code",
        "outputId": "995d1d02-a43c-4a61-a59a-b5a7d5efe100",
        "colab": {
          "base_uri": "https://localhost:8080/",
          "height": 122
        }
      },
      "source": [
        "from google.colab import drive\n",
        "drive.mount('/content/drive')"
      ],
      "execution_count": 0,
      "outputs": [
        {
          "output_type": "stream",
          "text": [
            "Go to this URL in a browser: https://accounts.google.com/o/oauth2/auth?client_id=947318989803-6bn6qk8qdgf4n4g3pfee6491hc0brc4i.apps.googleusercontent.com&redirect_uri=urn%3aietf%3awg%3aoauth%3a2.0%3aoob&response_type=code&scope=email%20https%3a%2f%2fwww.googleapis.com%2fauth%2fdocs.test%20https%3a%2f%2fwww.googleapis.com%2fauth%2fdrive%20https%3a%2f%2fwww.googleapis.com%2fauth%2fdrive.photos.readonly%20https%3a%2f%2fwww.googleapis.com%2fauth%2fpeopleapi.readonly\n",
            "\n",
            "Enter your authorization code:\n",
            "··········\n",
            "Mounted at /content/drive\n"
          ],
          "name": "stdout"
        }
      ]
    },
    {
      "cell_type": "code",
      "metadata": {
        "id": "bxmp5O_Q-sbC",
        "colab_type": "code",
        "colab": {}
      },
      "source": [
        "path ='/content/drive/My Drive/data/robinhood'"
      ],
      "execution_count": 0,
      "outputs": []
    },
    {
      "cell_type": "code",
      "metadata": {
        "id": "QCgGZd-t-ObZ",
        "colab_type": "code",
        "outputId": "ce0210c8-1b98-4131-e638-ce5f15cef116",
        "colab": {
          "base_uri": "https://localhost:8080/",
          "height": 204
        }
      },
      "source": [
        "checkchurn_df = pd.read_csv(path + '/equity_value_data.csv')\n",
        "checkchurn_df.head()"
      ],
      "execution_count": 0,
      "outputs": [
        {
          "output_type": "execute_result",
          "data": {
            "text/html": [
              "<div>\n",
              "<style scoped>\n",
              "    .dataframe tbody tr th:only-of-type {\n",
              "        vertical-align: middle;\n",
              "    }\n",
              "\n",
              "    .dataframe tbody tr th {\n",
              "        vertical-align: top;\n",
              "    }\n",
              "\n",
              "    .dataframe thead th {\n",
              "        text-align: right;\n",
              "    }\n",
              "</style>\n",
              "<table border=\"1\" class=\"dataframe\">\n",
              "  <thead>\n",
              "    <tr style=\"text-align: right;\">\n",
              "      <th></th>\n",
              "      <th>timestamp</th>\n",
              "      <th>close_equity</th>\n",
              "      <th>user_id</th>\n",
              "    </tr>\n",
              "  </thead>\n",
              "  <tbody>\n",
              "    <tr>\n",
              "      <th>0</th>\n",
              "      <td>2016-11-16T00:00:00Z</td>\n",
              "      <td>48.16</td>\n",
              "      <td>bcef4fa9b0bdf22bcf7deae708decf03</td>\n",
              "    </tr>\n",
              "    <tr>\n",
              "      <th>1</th>\n",
              "      <td>2016-11-17T00:00:00Z</td>\n",
              "      <td>48.16</td>\n",
              "      <td>bcef4fa9b0bdf22bcf7deae708decf03</td>\n",
              "    </tr>\n",
              "    <tr>\n",
              "      <th>2</th>\n",
              "      <td>2016-11-18T00:00:00Z</td>\n",
              "      <td>48.16</td>\n",
              "      <td>bcef4fa9b0bdf22bcf7deae708decf03</td>\n",
              "    </tr>\n",
              "    <tr>\n",
              "      <th>3</th>\n",
              "      <td>2016-11-21T00:00:00Z</td>\n",
              "      <td>48.16</td>\n",
              "      <td>bcef4fa9b0bdf22bcf7deae708decf03</td>\n",
              "    </tr>\n",
              "    <tr>\n",
              "      <th>4</th>\n",
              "      <td>2016-11-22T00:00:00Z</td>\n",
              "      <td>48.16</td>\n",
              "      <td>bcef4fa9b0bdf22bcf7deae708decf03</td>\n",
              "    </tr>\n",
              "  </tbody>\n",
              "</table>\n",
              "</div>"
            ],
            "text/plain": [
              "              timestamp  close_equity                           user_id\n",
              "0  2016-11-16T00:00:00Z         48.16  bcef4fa9b0bdf22bcf7deae708decf03\n",
              "1  2016-11-17T00:00:00Z         48.16  bcef4fa9b0bdf22bcf7deae708decf03\n",
              "2  2016-11-18T00:00:00Z         48.16  bcef4fa9b0bdf22bcf7deae708decf03\n",
              "3  2016-11-21T00:00:00Z         48.16  bcef4fa9b0bdf22bcf7deae708decf03\n",
              "4  2016-11-22T00:00:00Z         48.16  bcef4fa9b0bdf22bcf7deae708decf03"
            ]
          },
          "metadata": {
            "tags": []
          },
          "execution_count": 4
        }
      ]
    },
    {
      "cell_type": "code",
      "metadata": {
        "scrolled": true,
        "id": "i15dVtPW-Obc",
        "colab_type": "code",
        "outputId": "96aa51df-80b1-4929-f708-5f613fbd433e",
        "colab": {
          "base_uri": "https://localhost:8080/",
          "height": 51
        }
      },
      "source": [
        "print (\"Num of rows: \" + str(checkchurn_df.shape[0])) # row count\n",
        "print (\"Num of columns: \" + str(checkchurn_df.shape[1])) # col count"
      ],
      "execution_count": 0,
      "outputs": [
        {
          "output_type": "stream",
          "text": [
            "Num of rows: 1119158\n",
            "Num of columns: 3\n"
          ],
          "name": "stdout"
        }
      ]
    },
    {
      "cell_type": "code",
      "metadata": {
        "id": "hlpoNSET-Obe",
        "colab_type": "code",
        "colab": {}
      },
      "source": [
        "checkchurn_df['date']=checkchurn_df['timestamp'].map(lambda x: x[0:10])\n",
        "\n",
        "checkchurn_df['datetime']=pd.to_datetime(checkchurn_df['date'])\n",
        "\n",
        "#checkchurn_df['seconds']=checkchurn_df['timestamp'].dt.total_seconds()\n"
      ],
      "execution_count": 0,
      "outputs": []
    },
    {
      "cell_type": "code",
      "metadata": {
        "id": "2bJovv3q-Obg",
        "colab_type": "code",
        "outputId": "01b6d76f-4981-4c70-ba5f-e6e16d23dbb5",
        "colab": {
          "base_uri": "https://localhost:8080/",
          "height": 204
        }
      },
      "source": [
        "checkchurn_df.head()"
      ],
      "execution_count": 0,
      "outputs": [
        {
          "output_type": "execute_result",
          "data": {
            "text/html": [
              "<div>\n",
              "<style scoped>\n",
              "    .dataframe tbody tr th:only-of-type {\n",
              "        vertical-align: middle;\n",
              "    }\n",
              "\n",
              "    .dataframe tbody tr th {\n",
              "        vertical-align: top;\n",
              "    }\n",
              "\n",
              "    .dataframe thead th {\n",
              "        text-align: right;\n",
              "    }\n",
              "</style>\n",
              "<table border=\"1\" class=\"dataframe\">\n",
              "  <thead>\n",
              "    <tr style=\"text-align: right;\">\n",
              "      <th></th>\n",
              "      <th>timestamp</th>\n",
              "      <th>close_equity</th>\n",
              "      <th>user_id</th>\n",
              "      <th>date</th>\n",
              "      <th>datetime</th>\n",
              "    </tr>\n",
              "  </thead>\n",
              "  <tbody>\n",
              "    <tr>\n",
              "      <th>0</th>\n",
              "      <td>2016-11-16T00:00:00Z</td>\n",
              "      <td>48.16</td>\n",
              "      <td>bcef4fa9b0bdf22bcf7deae708decf03</td>\n",
              "      <td>2016-11-16</td>\n",
              "      <td>2016-11-16</td>\n",
              "    </tr>\n",
              "    <tr>\n",
              "      <th>1</th>\n",
              "      <td>2016-11-17T00:00:00Z</td>\n",
              "      <td>48.16</td>\n",
              "      <td>bcef4fa9b0bdf22bcf7deae708decf03</td>\n",
              "      <td>2016-11-17</td>\n",
              "      <td>2016-11-17</td>\n",
              "    </tr>\n",
              "    <tr>\n",
              "      <th>2</th>\n",
              "      <td>2016-11-18T00:00:00Z</td>\n",
              "      <td>48.16</td>\n",
              "      <td>bcef4fa9b0bdf22bcf7deae708decf03</td>\n",
              "      <td>2016-11-18</td>\n",
              "      <td>2016-11-18</td>\n",
              "    </tr>\n",
              "    <tr>\n",
              "      <th>3</th>\n",
              "      <td>2016-11-21T00:00:00Z</td>\n",
              "      <td>48.16</td>\n",
              "      <td>bcef4fa9b0bdf22bcf7deae708decf03</td>\n",
              "      <td>2016-11-21</td>\n",
              "      <td>2016-11-21</td>\n",
              "    </tr>\n",
              "    <tr>\n",
              "      <th>4</th>\n",
              "      <td>2016-11-22T00:00:00Z</td>\n",
              "      <td>48.16</td>\n",
              "      <td>bcef4fa9b0bdf22bcf7deae708decf03</td>\n",
              "      <td>2016-11-22</td>\n",
              "      <td>2016-11-22</td>\n",
              "    </tr>\n",
              "  </tbody>\n",
              "</table>\n",
              "</div>"
            ],
            "text/plain": [
              "              timestamp  close_equity                           user_id  \\\n",
              "0  2016-11-16T00:00:00Z         48.16  bcef4fa9b0bdf22bcf7deae708decf03   \n",
              "1  2016-11-17T00:00:00Z         48.16  bcef4fa9b0bdf22bcf7deae708decf03   \n",
              "2  2016-11-18T00:00:00Z         48.16  bcef4fa9b0bdf22bcf7deae708decf03   \n",
              "3  2016-11-21T00:00:00Z         48.16  bcef4fa9b0bdf22bcf7deae708decf03   \n",
              "4  2016-11-22T00:00:00Z         48.16  bcef4fa9b0bdf22bcf7deae708decf03   \n",
              "\n",
              "         date   datetime  \n",
              "0  2016-11-16 2016-11-16  \n",
              "1  2016-11-17 2016-11-17  \n",
              "2  2016-11-18 2016-11-18  \n",
              "3  2016-11-21 2016-11-21  \n",
              "4  2016-11-22 2016-11-22  "
            ]
          },
          "metadata": {
            "tags": []
          },
          "execution_count": 7
        }
      ]
    },
    {
      "cell_type": "code",
      "metadata": {
        "id": "Z6xv41To-Obi",
        "colab_type": "code",
        "outputId": "75375154-cf02-44be-a3da-2c3b9288ed3c",
        "colab": {
          "base_uri": "https://localhost:8080/",
          "height": 34
        }
      },
      "source": [
        "res = []\n",
        "\n",
        "for idx in range(len(checkchurn_df.index)-1):\n",
        "    if (checkchurn_df['user_id'][idx] == checkchurn_df['user_id'][idx+1]) and ( (checkchurn_df['datetime'][idx+1] - checkchurn_df['datetime'][idx]).total_seconds()>= int(2419200)):  \n",
        "        \n",
        "        \n",
        "        res.append(checkchurn_df['user_id'][idx])\n",
        "\n",
        "    \n",
        "        \n",
        "print (len(res))\n",
        "    "
      ],
      "execution_count": 0,
      "outputs": [
        {
          "output_type": "stream",
          "text": [
            "324\n"
          ],
          "name": "stdout"
        }
      ]
    },
    {
      "cell_type": "code",
      "metadata": {
        "id": "-pfzOGTB-Obl",
        "colab_type": "code",
        "outputId": "f487bf52-3289-47c9-c9f7-abe2b3adfd8e",
        "colab": {
          "base_uri": "https://localhost:8080/",
          "height": 34
        }
      },
      "source": [
        "s = set(res)\n",
        "print (len(s))"
      ],
      "execution_count": 0,
      "outputs": [
        {
          "output_type": "stream",
          "text": [
            "279\n"
          ],
          "name": "stdout"
        }
      ]
    },
    {
      "cell_type": "code",
      "metadata": {
        "id": "fB9jQMMI-Obn",
        "colab_type": "code",
        "outputId": "4cfaf6c5-56b1-456f-89e3-aa7a185cd186",
        "colab": {
          "base_uri": "https://localhost:8080/",
          "height": 224
        }
      },
      "source": [
        "churn_df = pd.read_csv(path +'/features_data.csv')\n",
        "churn_df.head()"
      ],
      "execution_count": 0,
      "outputs": [
        {
          "output_type": "execute_result",
          "data": {
            "text/html": [
              "<div>\n",
              "<style scoped>\n",
              "    .dataframe tbody tr th:only-of-type {\n",
              "        vertical-align: middle;\n",
              "    }\n",
              "\n",
              "    .dataframe tbody tr th {\n",
              "        vertical-align: top;\n",
              "    }\n",
              "\n",
              "    .dataframe thead th {\n",
              "        text-align: right;\n",
              "    }\n",
              "</style>\n",
              "<table border=\"1\" class=\"dataframe\">\n",
              "  <thead>\n",
              "    <tr style=\"text-align: right;\">\n",
              "      <th></th>\n",
              "      <th>risk_tolerance</th>\n",
              "      <th>investment_experience</th>\n",
              "      <th>liquidity_needs</th>\n",
              "      <th>platform</th>\n",
              "      <th>time_spent</th>\n",
              "      <th>instrument_type_first_traded</th>\n",
              "      <th>first_deposit_amount</th>\n",
              "      <th>time_horizon</th>\n",
              "      <th>user_id</th>\n",
              "    </tr>\n",
              "  </thead>\n",
              "  <tbody>\n",
              "    <tr>\n",
              "      <th>0</th>\n",
              "      <td>high_risk_tolerance</td>\n",
              "      <td>limited_investment_exp</td>\n",
              "      <td>very_important_liq_need</td>\n",
              "      <td>Android</td>\n",
              "      <td>33.129417</td>\n",
              "      <td>stock</td>\n",
              "      <td>40.0</td>\n",
              "      <td>med_time_horizon</td>\n",
              "      <td>895044c23edc821881e87da749c01034</td>\n",
              "    </tr>\n",
              "    <tr>\n",
              "      <th>1</th>\n",
              "      <td>med_risk_tolerance</td>\n",
              "      <td>limited_investment_exp</td>\n",
              "      <td>very_important_liq_need</td>\n",
              "      <td>Android</td>\n",
              "      <td>16.573517</td>\n",
              "      <td>stock</td>\n",
              "      <td>200.0</td>\n",
              "      <td>short_time_horizon</td>\n",
              "      <td>458b1d95441ced242949deefe8e4b638</td>\n",
              "    </tr>\n",
              "    <tr>\n",
              "      <th>2</th>\n",
              "      <td>med_risk_tolerance</td>\n",
              "      <td>limited_investment_exp</td>\n",
              "      <td>very_important_liq_need</td>\n",
              "      <td>iOS</td>\n",
              "      <td>10.008367</td>\n",
              "      <td>stock</td>\n",
              "      <td>25.0</td>\n",
              "      <td>long_time_horizon</td>\n",
              "      <td>c7936f653d293479e034865db9bb932f</td>\n",
              "    </tr>\n",
              "    <tr>\n",
              "      <th>3</th>\n",
              "      <td>med_risk_tolerance</td>\n",
              "      <td>limited_investment_exp</td>\n",
              "      <td>very_important_liq_need</td>\n",
              "      <td>Android</td>\n",
              "      <td>1.031633</td>\n",
              "      <td>stock</td>\n",
              "      <td>100.0</td>\n",
              "      <td>short_time_horizon</td>\n",
              "      <td>b255d4bd6c9ba194d3a350b3e76c6393</td>\n",
              "    </tr>\n",
              "    <tr>\n",
              "      <th>4</th>\n",
              "      <td>high_risk_tolerance</td>\n",
              "      <td>limited_investment_exp</td>\n",
              "      <td>very_important_liq_need</td>\n",
              "      <td>Android</td>\n",
              "      <td>8.187250</td>\n",
              "      <td>stock</td>\n",
              "      <td>20.0</td>\n",
              "      <td>long_time_horizon</td>\n",
              "      <td>4a168225e89375b8de605cbc0977ae91</td>\n",
              "    </tr>\n",
              "  </tbody>\n",
              "</table>\n",
              "</div>"
            ],
            "text/plain": [
              "        risk_tolerance   investment_experience          liquidity_needs  \\\n",
              "0  high_risk_tolerance  limited_investment_exp  very_important_liq_need   \n",
              "1   med_risk_tolerance  limited_investment_exp  very_important_liq_need   \n",
              "2   med_risk_tolerance  limited_investment_exp  very_important_liq_need   \n",
              "3   med_risk_tolerance  limited_investment_exp  very_important_liq_need   \n",
              "4  high_risk_tolerance  limited_investment_exp  very_important_liq_need   \n",
              "\n",
              "  platform  time_spent instrument_type_first_traded  first_deposit_amount  \\\n",
              "0  Android   33.129417                        stock                  40.0   \n",
              "1  Android   16.573517                        stock                 200.0   \n",
              "2      iOS   10.008367                        stock                  25.0   \n",
              "3  Android    1.031633                        stock                 100.0   \n",
              "4  Android    8.187250                        stock                  20.0   \n",
              "\n",
              "         time_horizon                           user_id  \n",
              "0    med_time_horizon  895044c23edc821881e87da749c01034  \n",
              "1  short_time_horizon  458b1d95441ced242949deefe8e4b638  \n",
              "2   long_time_horizon  c7936f653d293479e034865db9bb932f  \n",
              "3  short_time_horizon  b255d4bd6c9ba194d3a350b3e76c6393  \n",
              "4   long_time_horizon  4a168225e89375b8de605cbc0977ae91  "
            ]
          },
          "metadata": {
            "tags": []
          },
          "execution_count": 11
        }
      ]
    },
    {
      "cell_type": "code",
      "metadata": {
        "id": "0ODsohG1-Obp",
        "colab_type": "code",
        "outputId": "8fc498a6-25bc-48af-92f9-6ab444e45c48",
        "colab": {
          "base_uri": "https://localhost:8080/",
          "height": 34
        }
      },
      "source": [
        "print (\"Percentage of churned : \" + str(100*len(s)/churn_df.shape[0])+'%') "
      ],
      "execution_count": 0,
      "outputs": [
        {
          "output_type": "stream",
          "text": [
            "Percentage of churned : 4.9964183381088825%\n"
          ],
          "name": "stdout"
        }
      ]
    },
    {
      "cell_type": "code",
      "metadata": {
        "id": "BDRYWfsP-Obr",
        "colab_type": "code",
        "outputId": "d96670dc-dbd4-4dd4-ab37-01b3262efe35",
        "colab": {
          "base_uri": "https://localhost:8080/",
          "height": 224
        }
      },
      "source": [
        "churn_df['churn'] = churn_df['time_spent']\n",
        "churn_df.head()"
      ],
      "execution_count": 0,
      "outputs": [
        {
          "output_type": "execute_result",
          "data": {
            "text/html": [
              "<div>\n",
              "<style scoped>\n",
              "    .dataframe tbody tr th:only-of-type {\n",
              "        vertical-align: middle;\n",
              "    }\n",
              "\n",
              "    .dataframe tbody tr th {\n",
              "        vertical-align: top;\n",
              "    }\n",
              "\n",
              "    .dataframe thead th {\n",
              "        text-align: right;\n",
              "    }\n",
              "</style>\n",
              "<table border=\"1\" class=\"dataframe\">\n",
              "  <thead>\n",
              "    <tr style=\"text-align: right;\">\n",
              "      <th></th>\n",
              "      <th>risk_tolerance</th>\n",
              "      <th>investment_experience</th>\n",
              "      <th>liquidity_needs</th>\n",
              "      <th>platform</th>\n",
              "      <th>time_spent</th>\n",
              "      <th>instrument_type_first_traded</th>\n",
              "      <th>first_deposit_amount</th>\n",
              "      <th>time_horizon</th>\n",
              "      <th>user_id</th>\n",
              "      <th>churn</th>\n",
              "    </tr>\n",
              "  </thead>\n",
              "  <tbody>\n",
              "    <tr>\n",
              "      <th>0</th>\n",
              "      <td>high_risk_tolerance</td>\n",
              "      <td>limited_investment_exp</td>\n",
              "      <td>very_important_liq_need</td>\n",
              "      <td>Android</td>\n",
              "      <td>33.129417</td>\n",
              "      <td>stock</td>\n",
              "      <td>40.0</td>\n",
              "      <td>med_time_horizon</td>\n",
              "      <td>895044c23edc821881e87da749c01034</td>\n",
              "      <td>33.129417</td>\n",
              "    </tr>\n",
              "    <tr>\n",
              "      <th>1</th>\n",
              "      <td>med_risk_tolerance</td>\n",
              "      <td>limited_investment_exp</td>\n",
              "      <td>very_important_liq_need</td>\n",
              "      <td>Android</td>\n",
              "      <td>16.573517</td>\n",
              "      <td>stock</td>\n",
              "      <td>200.0</td>\n",
              "      <td>short_time_horizon</td>\n",
              "      <td>458b1d95441ced242949deefe8e4b638</td>\n",
              "      <td>16.573517</td>\n",
              "    </tr>\n",
              "    <tr>\n",
              "      <th>2</th>\n",
              "      <td>med_risk_tolerance</td>\n",
              "      <td>limited_investment_exp</td>\n",
              "      <td>very_important_liq_need</td>\n",
              "      <td>iOS</td>\n",
              "      <td>10.008367</td>\n",
              "      <td>stock</td>\n",
              "      <td>25.0</td>\n",
              "      <td>long_time_horizon</td>\n",
              "      <td>c7936f653d293479e034865db9bb932f</td>\n",
              "      <td>10.008367</td>\n",
              "    </tr>\n",
              "    <tr>\n",
              "      <th>3</th>\n",
              "      <td>med_risk_tolerance</td>\n",
              "      <td>limited_investment_exp</td>\n",
              "      <td>very_important_liq_need</td>\n",
              "      <td>Android</td>\n",
              "      <td>1.031633</td>\n",
              "      <td>stock</td>\n",
              "      <td>100.0</td>\n",
              "      <td>short_time_horizon</td>\n",
              "      <td>b255d4bd6c9ba194d3a350b3e76c6393</td>\n",
              "      <td>1.031633</td>\n",
              "    </tr>\n",
              "    <tr>\n",
              "      <th>4</th>\n",
              "      <td>high_risk_tolerance</td>\n",
              "      <td>limited_investment_exp</td>\n",
              "      <td>very_important_liq_need</td>\n",
              "      <td>Android</td>\n",
              "      <td>8.187250</td>\n",
              "      <td>stock</td>\n",
              "      <td>20.0</td>\n",
              "      <td>long_time_horizon</td>\n",
              "      <td>4a168225e89375b8de605cbc0977ae91</td>\n",
              "      <td>8.187250</td>\n",
              "    </tr>\n",
              "  </tbody>\n",
              "</table>\n",
              "</div>"
            ],
            "text/plain": [
              "        risk_tolerance   investment_experience          liquidity_needs  \\\n",
              "0  high_risk_tolerance  limited_investment_exp  very_important_liq_need   \n",
              "1   med_risk_tolerance  limited_investment_exp  very_important_liq_need   \n",
              "2   med_risk_tolerance  limited_investment_exp  very_important_liq_need   \n",
              "3   med_risk_tolerance  limited_investment_exp  very_important_liq_need   \n",
              "4  high_risk_tolerance  limited_investment_exp  very_important_liq_need   \n",
              "\n",
              "  platform  time_spent instrument_type_first_traded  first_deposit_amount  \\\n",
              "0  Android   33.129417                        stock                  40.0   \n",
              "1  Android   16.573517                        stock                 200.0   \n",
              "2      iOS   10.008367                        stock                  25.0   \n",
              "3  Android    1.031633                        stock                 100.0   \n",
              "4  Android    8.187250                        stock                  20.0   \n",
              "\n",
              "         time_horizon                           user_id      churn  \n",
              "0    med_time_horizon  895044c23edc821881e87da749c01034  33.129417  \n",
              "1  short_time_horizon  458b1d95441ced242949deefe8e4b638  16.573517  \n",
              "2   long_time_horizon  c7936f653d293479e034865db9bb932f  10.008367  \n",
              "3  short_time_horizon  b255d4bd6c9ba194d3a350b3e76c6393   1.031633  \n",
              "4   long_time_horizon  4a168225e89375b8de605cbc0977ae91   8.187250  "
            ]
          },
          "metadata": {
            "tags": []
          },
          "execution_count": 13
        }
      ]
    },
    {
      "cell_type": "code",
      "metadata": {
        "id": "eAt7C_8m-Obt",
        "colab_type": "code",
        "colab": {}
      },
      "source": [
        "for idx in churn_df.index:    \n",
        "    churn_df['churn'][idx] =  1 if churn_df['user_id'][idx] in res else 0"
      ],
      "execution_count": 0,
      "outputs": []
    },
    {
      "cell_type": "code",
      "metadata": {
        "scrolled": true,
        "id": "QhJ4-9mY-Obv",
        "colab_type": "code",
        "outputId": "df0c5350-b1e5-4064-cbe6-90c10f2625ca",
        "colab": {
          "base_uri": "https://localhost:8080/",
          "height": 379
        }
      },
      "source": [
        "churn_df.head(10)"
      ],
      "execution_count": 0,
      "outputs": [
        {
          "output_type": "execute_result",
          "data": {
            "text/html": [
              "<div>\n",
              "<style scoped>\n",
              "    .dataframe tbody tr th:only-of-type {\n",
              "        vertical-align: middle;\n",
              "    }\n",
              "\n",
              "    .dataframe tbody tr th {\n",
              "        vertical-align: top;\n",
              "    }\n",
              "\n",
              "    .dataframe thead th {\n",
              "        text-align: right;\n",
              "    }\n",
              "</style>\n",
              "<table border=\"1\" class=\"dataframe\">\n",
              "  <thead>\n",
              "    <tr style=\"text-align: right;\">\n",
              "      <th></th>\n",
              "      <th>risk_tolerance</th>\n",
              "      <th>investment_experience</th>\n",
              "      <th>liquidity_needs</th>\n",
              "      <th>platform</th>\n",
              "      <th>time_spent</th>\n",
              "      <th>instrument_type_first_traded</th>\n",
              "      <th>first_deposit_amount</th>\n",
              "      <th>time_horizon</th>\n",
              "      <th>user_id</th>\n",
              "      <th>churn</th>\n",
              "    </tr>\n",
              "  </thead>\n",
              "  <tbody>\n",
              "    <tr>\n",
              "      <th>0</th>\n",
              "      <td>high_risk_tolerance</td>\n",
              "      <td>limited_investment_exp</td>\n",
              "      <td>very_important_liq_need</td>\n",
              "      <td>Android</td>\n",
              "      <td>33.129417</td>\n",
              "      <td>stock</td>\n",
              "      <td>40.0</td>\n",
              "      <td>med_time_horizon</td>\n",
              "      <td>895044c23edc821881e87da749c01034</td>\n",
              "      <td>0.0</td>\n",
              "    </tr>\n",
              "    <tr>\n",
              "      <th>1</th>\n",
              "      <td>med_risk_tolerance</td>\n",
              "      <td>limited_investment_exp</td>\n",
              "      <td>very_important_liq_need</td>\n",
              "      <td>Android</td>\n",
              "      <td>16.573517</td>\n",
              "      <td>stock</td>\n",
              "      <td>200.0</td>\n",
              "      <td>short_time_horizon</td>\n",
              "      <td>458b1d95441ced242949deefe8e4b638</td>\n",
              "      <td>0.0</td>\n",
              "    </tr>\n",
              "    <tr>\n",
              "      <th>2</th>\n",
              "      <td>med_risk_tolerance</td>\n",
              "      <td>limited_investment_exp</td>\n",
              "      <td>very_important_liq_need</td>\n",
              "      <td>iOS</td>\n",
              "      <td>10.008367</td>\n",
              "      <td>stock</td>\n",
              "      <td>25.0</td>\n",
              "      <td>long_time_horizon</td>\n",
              "      <td>c7936f653d293479e034865db9bb932f</td>\n",
              "      <td>0.0</td>\n",
              "    </tr>\n",
              "    <tr>\n",
              "      <th>3</th>\n",
              "      <td>med_risk_tolerance</td>\n",
              "      <td>limited_investment_exp</td>\n",
              "      <td>very_important_liq_need</td>\n",
              "      <td>Android</td>\n",
              "      <td>1.031633</td>\n",
              "      <td>stock</td>\n",
              "      <td>100.0</td>\n",
              "      <td>short_time_horizon</td>\n",
              "      <td>b255d4bd6c9ba194d3a350b3e76c6393</td>\n",
              "      <td>0.0</td>\n",
              "    </tr>\n",
              "    <tr>\n",
              "      <th>4</th>\n",
              "      <td>high_risk_tolerance</td>\n",
              "      <td>limited_investment_exp</td>\n",
              "      <td>very_important_liq_need</td>\n",
              "      <td>Android</td>\n",
              "      <td>8.187250</td>\n",
              "      <td>stock</td>\n",
              "      <td>20.0</td>\n",
              "      <td>long_time_horizon</td>\n",
              "      <td>4a168225e89375b8de605cbc0977ae91</td>\n",
              "      <td>0.0</td>\n",
              "    </tr>\n",
              "    <tr>\n",
              "      <th>5</th>\n",
              "      <td>med_risk_tolerance</td>\n",
              "      <td>no_investment_exp</td>\n",
              "      <td>not_important_liq_need</td>\n",
              "      <td>iOS</td>\n",
              "      <td>12.968117</td>\n",
              "      <td>stock</td>\n",
              "      <td>100.0</td>\n",
              "      <td>med_time_horizon</td>\n",
              "      <td>0322b1d744cc89ebbe6ebe70d824d922</td>\n",
              "      <td>0.0</td>\n",
              "    </tr>\n",
              "    <tr>\n",
              "      <th>6</th>\n",
              "      <td>low_risk_tolerance</td>\n",
              "      <td>good_investment_exp</td>\n",
              "      <td>very_important_liq_need</td>\n",
              "      <td>Android</td>\n",
              "      <td>30.710083</td>\n",
              "      <td>stock</td>\n",
              "      <td>5.0</td>\n",
              "      <td>long_time_horizon</td>\n",
              "      <td>f4cac8c1544b723ddedc9bdba81c64c0</td>\n",
              "      <td>1.0</td>\n",
              "    </tr>\n",
              "    <tr>\n",
              "      <th>7</th>\n",
              "      <td>high_risk_tolerance</td>\n",
              "      <td>good_investment_exp</td>\n",
              "      <td>somewhat_important_liq_need</td>\n",
              "      <td>iOS</td>\n",
              "      <td>0.000000</td>\n",
              "      <td>stock</td>\n",
              "      <td>100.0</td>\n",
              "      <td>short_time_horizon</td>\n",
              "      <td>bdc39d2fc664ef9a5e6713168057f892</td>\n",
              "      <td>0.0</td>\n",
              "    </tr>\n",
              "    <tr>\n",
              "      <th>8</th>\n",
              "      <td>high_risk_tolerance</td>\n",
              "      <td>good_investment_exp</td>\n",
              "      <td>very_important_liq_need</td>\n",
              "      <td>iOS</td>\n",
              "      <td>0.000000</td>\n",
              "      <td>stock</td>\n",
              "      <td>5000.0</td>\n",
              "      <td>short_time_horizon</td>\n",
              "      <td>85f2f0f54411b4f3e7a403ba902e7280</td>\n",
              "      <td>0.0</td>\n",
              "    </tr>\n",
              "    <tr>\n",
              "      <th>9</th>\n",
              "      <td>med_risk_tolerance</td>\n",
              "      <td>no_investment_exp</td>\n",
              "      <td>very_important_liq_need</td>\n",
              "      <td>Android</td>\n",
              "      <td>2.969617</td>\n",
              "      <td>stock</td>\n",
              "      <td>11.0</td>\n",
              "      <td>med_time_horizon</td>\n",
              "      <td>529ddd19dac72d55cde8e633340a9aed</td>\n",
              "      <td>0.0</td>\n",
              "    </tr>\n",
              "  </tbody>\n",
              "</table>\n",
              "</div>"
            ],
            "text/plain": [
              "        risk_tolerance   investment_experience              liquidity_needs  \\\n",
              "0  high_risk_tolerance  limited_investment_exp      very_important_liq_need   \n",
              "1   med_risk_tolerance  limited_investment_exp      very_important_liq_need   \n",
              "2   med_risk_tolerance  limited_investment_exp      very_important_liq_need   \n",
              "3   med_risk_tolerance  limited_investment_exp      very_important_liq_need   \n",
              "4  high_risk_tolerance  limited_investment_exp      very_important_liq_need   \n",
              "5   med_risk_tolerance       no_investment_exp       not_important_liq_need   \n",
              "6   low_risk_tolerance     good_investment_exp      very_important_liq_need   \n",
              "7  high_risk_tolerance     good_investment_exp  somewhat_important_liq_need   \n",
              "8  high_risk_tolerance     good_investment_exp      very_important_liq_need   \n",
              "9   med_risk_tolerance       no_investment_exp      very_important_liq_need   \n",
              "\n",
              "  platform  time_spent instrument_type_first_traded  first_deposit_amount  \\\n",
              "0  Android   33.129417                        stock                  40.0   \n",
              "1  Android   16.573517                        stock                 200.0   \n",
              "2      iOS   10.008367                        stock                  25.0   \n",
              "3  Android    1.031633                        stock                 100.0   \n",
              "4  Android    8.187250                        stock                  20.0   \n",
              "5      iOS   12.968117                        stock                 100.0   \n",
              "6  Android   30.710083                        stock                   5.0   \n",
              "7      iOS    0.000000                        stock                 100.0   \n",
              "8      iOS    0.000000                        stock                5000.0   \n",
              "9  Android    2.969617                        stock                  11.0   \n",
              "\n",
              "         time_horizon                           user_id  churn  \n",
              "0    med_time_horizon  895044c23edc821881e87da749c01034    0.0  \n",
              "1  short_time_horizon  458b1d95441ced242949deefe8e4b638    0.0  \n",
              "2   long_time_horizon  c7936f653d293479e034865db9bb932f    0.0  \n",
              "3  short_time_horizon  b255d4bd6c9ba194d3a350b3e76c6393    0.0  \n",
              "4   long_time_horizon  4a168225e89375b8de605cbc0977ae91    0.0  \n",
              "5    med_time_horizon  0322b1d744cc89ebbe6ebe70d824d922    0.0  \n",
              "6   long_time_horizon  f4cac8c1544b723ddedc9bdba81c64c0    1.0  \n",
              "7  short_time_horizon  bdc39d2fc664ef9a5e6713168057f892    0.0  \n",
              "8  short_time_horizon  85f2f0f54411b4f3e7a403ba902e7280    0.0  \n",
              "9    med_time_horizon  529ddd19dac72d55cde8e633340a9aed    0.0  "
            ]
          },
          "metadata": {
            "tags": []
          },
          "execution_count": 15
        }
      ]
    },
    {
      "cell_type": "code",
      "metadata": {
        "id": "GuCLDDod-Oby",
        "colab_type": "code",
        "outputId": "cb2dd6bd-80db-4991-a281-a98a45757e68",
        "colab": {
          "base_uri": "https://localhost:8080/",
          "height": 359
        }
      },
      "source": [
        "# Data Cleaning\n",
        "# Now there is the real churn data with lables~\n",
        "#1.check missing data, no missing data\n",
        "all_data_na = (churn_df.isnull().sum() / len(churn_df)) * 100\n",
        "missing_data = pd.DataFrame({'Missing Ratio' :all_data_na})\n",
        "missing_data.head(10)"
      ],
      "execution_count": 0,
      "outputs": [
        {
          "output_type": "execute_result",
          "data": {
            "text/html": [
              "<div>\n",
              "<style scoped>\n",
              "    .dataframe tbody tr th:only-of-type {\n",
              "        vertical-align: middle;\n",
              "    }\n",
              "\n",
              "    .dataframe tbody tr th {\n",
              "        vertical-align: top;\n",
              "    }\n",
              "\n",
              "    .dataframe thead th {\n",
              "        text-align: right;\n",
              "    }\n",
              "</style>\n",
              "<table border=\"1\" class=\"dataframe\">\n",
              "  <thead>\n",
              "    <tr style=\"text-align: right;\">\n",
              "      <th></th>\n",
              "      <th>Missing Ratio</th>\n",
              "    </tr>\n",
              "  </thead>\n",
              "  <tbody>\n",
              "    <tr>\n",
              "      <th>risk_tolerance</th>\n",
              "      <td>0.0</td>\n",
              "    </tr>\n",
              "    <tr>\n",
              "      <th>investment_experience</th>\n",
              "      <td>0.0</td>\n",
              "    </tr>\n",
              "    <tr>\n",
              "      <th>liquidity_needs</th>\n",
              "      <td>0.0</td>\n",
              "    </tr>\n",
              "    <tr>\n",
              "      <th>platform</th>\n",
              "      <td>0.0</td>\n",
              "    </tr>\n",
              "    <tr>\n",
              "      <th>time_spent</th>\n",
              "      <td>0.0</td>\n",
              "    </tr>\n",
              "    <tr>\n",
              "      <th>instrument_type_first_traded</th>\n",
              "      <td>0.0</td>\n",
              "    </tr>\n",
              "    <tr>\n",
              "      <th>first_deposit_amount</th>\n",
              "      <td>0.0</td>\n",
              "    </tr>\n",
              "    <tr>\n",
              "      <th>time_horizon</th>\n",
              "      <td>0.0</td>\n",
              "    </tr>\n",
              "    <tr>\n",
              "      <th>user_id</th>\n",
              "      <td>0.0</td>\n",
              "    </tr>\n",
              "    <tr>\n",
              "      <th>churn</th>\n",
              "      <td>0.0</td>\n",
              "    </tr>\n",
              "  </tbody>\n",
              "</table>\n",
              "</div>"
            ],
            "text/plain": [
              "                              Missing Ratio\n",
              "risk_tolerance                          0.0\n",
              "investment_experience                   0.0\n",
              "liquidity_needs                         0.0\n",
              "platform                                0.0\n",
              "time_spent                              0.0\n",
              "instrument_type_first_traded            0.0\n",
              "first_deposit_amount                    0.0\n",
              "time_horizon                            0.0\n",
              "user_id                                 0.0\n",
              "churn                                   0.0"
            ]
          },
          "metadata": {
            "tags": []
          },
          "execution_count": 16
        }
      ]
    },
    {
      "cell_type": "code",
      "metadata": {
        "id": "r26K4u_G-Ob1",
        "colab_type": "code",
        "colab": {}
      },
      "source": [
        "#drop some category features\n",
        "to_drop = ['user_id']\n",
        "churn_drop_df = churn_df.drop(to_drop, axis=1)"
      ],
      "execution_count": 0,
      "outputs": []
    },
    {
      "cell_type": "code",
      "metadata": {
        "id": "PKj2IaBP-Ob3",
        "colab_type": "code",
        "outputId": "6fe0c578-92c1-4530-ad41-64f45c230254",
        "colab": {
          "base_uri": "https://localhost:8080/",
          "height": 379
        }
      },
      "source": [
        "churn_drop_df.head (10)"
      ],
      "execution_count": 0,
      "outputs": [
        {
          "output_type": "execute_result",
          "data": {
            "text/html": [
              "<div>\n",
              "<style scoped>\n",
              "    .dataframe tbody tr th:only-of-type {\n",
              "        vertical-align: middle;\n",
              "    }\n",
              "\n",
              "    .dataframe tbody tr th {\n",
              "        vertical-align: top;\n",
              "    }\n",
              "\n",
              "    .dataframe thead th {\n",
              "        text-align: right;\n",
              "    }\n",
              "</style>\n",
              "<table border=\"1\" class=\"dataframe\">\n",
              "  <thead>\n",
              "    <tr style=\"text-align: right;\">\n",
              "      <th></th>\n",
              "      <th>risk_tolerance</th>\n",
              "      <th>investment_experience</th>\n",
              "      <th>liquidity_needs</th>\n",
              "      <th>platform</th>\n",
              "      <th>time_spent</th>\n",
              "      <th>instrument_type_first_traded</th>\n",
              "      <th>first_deposit_amount</th>\n",
              "      <th>time_horizon</th>\n",
              "      <th>churn</th>\n",
              "    </tr>\n",
              "  </thead>\n",
              "  <tbody>\n",
              "    <tr>\n",
              "      <th>0</th>\n",
              "      <td>high_risk_tolerance</td>\n",
              "      <td>limited_investment_exp</td>\n",
              "      <td>very_important_liq_need</td>\n",
              "      <td>Android</td>\n",
              "      <td>33.129417</td>\n",
              "      <td>stock</td>\n",
              "      <td>40.0</td>\n",
              "      <td>med_time_horizon</td>\n",
              "      <td>0.0</td>\n",
              "    </tr>\n",
              "    <tr>\n",
              "      <th>1</th>\n",
              "      <td>med_risk_tolerance</td>\n",
              "      <td>limited_investment_exp</td>\n",
              "      <td>very_important_liq_need</td>\n",
              "      <td>Android</td>\n",
              "      <td>16.573517</td>\n",
              "      <td>stock</td>\n",
              "      <td>200.0</td>\n",
              "      <td>short_time_horizon</td>\n",
              "      <td>0.0</td>\n",
              "    </tr>\n",
              "    <tr>\n",
              "      <th>2</th>\n",
              "      <td>med_risk_tolerance</td>\n",
              "      <td>limited_investment_exp</td>\n",
              "      <td>very_important_liq_need</td>\n",
              "      <td>iOS</td>\n",
              "      <td>10.008367</td>\n",
              "      <td>stock</td>\n",
              "      <td>25.0</td>\n",
              "      <td>long_time_horizon</td>\n",
              "      <td>0.0</td>\n",
              "    </tr>\n",
              "    <tr>\n",
              "      <th>3</th>\n",
              "      <td>med_risk_tolerance</td>\n",
              "      <td>limited_investment_exp</td>\n",
              "      <td>very_important_liq_need</td>\n",
              "      <td>Android</td>\n",
              "      <td>1.031633</td>\n",
              "      <td>stock</td>\n",
              "      <td>100.0</td>\n",
              "      <td>short_time_horizon</td>\n",
              "      <td>0.0</td>\n",
              "    </tr>\n",
              "    <tr>\n",
              "      <th>4</th>\n",
              "      <td>high_risk_tolerance</td>\n",
              "      <td>limited_investment_exp</td>\n",
              "      <td>very_important_liq_need</td>\n",
              "      <td>Android</td>\n",
              "      <td>8.187250</td>\n",
              "      <td>stock</td>\n",
              "      <td>20.0</td>\n",
              "      <td>long_time_horizon</td>\n",
              "      <td>0.0</td>\n",
              "    </tr>\n",
              "    <tr>\n",
              "      <th>5</th>\n",
              "      <td>med_risk_tolerance</td>\n",
              "      <td>no_investment_exp</td>\n",
              "      <td>not_important_liq_need</td>\n",
              "      <td>iOS</td>\n",
              "      <td>12.968117</td>\n",
              "      <td>stock</td>\n",
              "      <td>100.0</td>\n",
              "      <td>med_time_horizon</td>\n",
              "      <td>0.0</td>\n",
              "    </tr>\n",
              "    <tr>\n",
              "      <th>6</th>\n",
              "      <td>low_risk_tolerance</td>\n",
              "      <td>good_investment_exp</td>\n",
              "      <td>very_important_liq_need</td>\n",
              "      <td>Android</td>\n",
              "      <td>30.710083</td>\n",
              "      <td>stock</td>\n",
              "      <td>5.0</td>\n",
              "      <td>long_time_horizon</td>\n",
              "      <td>1.0</td>\n",
              "    </tr>\n",
              "    <tr>\n",
              "      <th>7</th>\n",
              "      <td>high_risk_tolerance</td>\n",
              "      <td>good_investment_exp</td>\n",
              "      <td>somewhat_important_liq_need</td>\n",
              "      <td>iOS</td>\n",
              "      <td>0.000000</td>\n",
              "      <td>stock</td>\n",
              "      <td>100.0</td>\n",
              "      <td>short_time_horizon</td>\n",
              "      <td>0.0</td>\n",
              "    </tr>\n",
              "    <tr>\n",
              "      <th>8</th>\n",
              "      <td>high_risk_tolerance</td>\n",
              "      <td>good_investment_exp</td>\n",
              "      <td>very_important_liq_need</td>\n",
              "      <td>iOS</td>\n",
              "      <td>0.000000</td>\n",
              "      <td>stock</td>\n",
              "      <td>5000.0</td>\n",
              "      <td>short_time_horizon</td>\n",
              "      <td>0.0</td>\n",
              "    </tr>\n",
              "    <tr>\n",
              "      <th>9</th>\n",
              "      <td>med_risk_tolerance</td>\n",
              "      <td>no_investment_exp</td>\n",
              "      <td>very_important_liq_need</td>\n",
              "      <td>Android</td>\n",
              "      <td>2.969617</td>\n",
              "      <td>stock</td>\n",
              "      <td>11.0</td>\n",
              "      <td>med_time_horizon</td>\n",
              "      <td>0.0</td>\n",
              "    </tr>\n",
              "  </tbody>\n",
              "</table>\n",
              "</div>"
            ],
            "text/plain": [
              "        risk_tolerance   investment_experience              liquidity_needs  \\\n",
              "0  high_risk_tolerance  limited_investment_exp      very_important_liq_need   \n",
              "1   med_risk_tolerance  limited_investment_exp      very_important_liq_need   \n",
              "2   med_risk_tolerance  limited_investment_exp      very_important_liq_need   \n",
              "3   med_risk_tolerance  limited_investment_exp      very_important_liq_need   \n",
              "4  high_risk_tolerance  limited_investment_exp      very_important_liq_need   \n",
              "5   med_risk_tolerance       no_investment_exp       not_important_liq_need   \n",
              "6   low_risk_tolerance     good_investment_exp      very_important_liq_need   \n",
              "7  high_risk_tolerance     good_investment_exp  somewhat_important_liq_need   \n",
              "8  high_risk_tolerance     good_investment_exp      very_important_liq_need   \n",
              "9   med_risk_tolerance       no_investment_exp      very_important_liq_need   \n",
              "\n",
              "  platform  time_spent instrument_type_first_traded  first_deposit_amount  \\\n",
              "0  Android   33.129417                        stock                  40.0   \n",
              "1  Android   16.573517                        stock                 200.0   \n",
              "2      iOS   10.008367                        stock                  25.0   \n",
              "3  Android    1.031633                        stock                 100.0   \n",
              "4  Android    8.187250                        stock                  20.0   \n",
              "5      iOS   12.968117                        stock                 100.0   \n",
              "6  Android   30.710083                        stock                   5.0   \n",
              "7      iOS    0.000000                        stock                 100.0   \n",
              "8      iOS    0.000000                        stock                5000.0   \n",
              "9  Android    2.969617                        stock                  11.0   \n",
              "\n",
              "         time_horizon  churn  \n",
              "0    med_time_horizon    0.0  \n",
              "1  short_time_horizon    0.0  \n",
              "2   long_time_horizon    0.0  \n",
              "3  short_time_horizon    0.0  \n",
              "4   long_time_horizon    0.0  \n",
              "5    med_time_horizon    0.0  \n",
              "6   long_time_horizon    1.0  \n",
              "7  short_time_horizon    0.0  \n",
              "8  short_time_horizon    0.0  \n",
              "9    med_time_horizon    0.0  "
            ]
          },
          "metadata": {
            "tags": []
          },
          "execution_count": 18
        }
      ]
    },
    {
      "cell_type": "code",
      "metadata": {
        "id": "zkaJYv83-Ob6",
        "colab_type": "code",
        "colab": {}
      },
      "source": [
        "#Label encoding categorical features\n",
        "from sklearn import preprocessing\n",
        "for f in churn_drop_df.columns:\n",
        "#     print(churn_drop_df[f].dtype)\n",
        "    if churn_drop_df[f].dtype != float: \n",
        "        lbl = preprocessing.LabelEncoder()\n",
        "        lbl.fit(list(churn_drop_df[f].values)) \n",
        "        churn_drop_df[f] = lbl.transform(list(churn_drop_df[f].values))\n",
        "\n",
        "# Label Encoding or One-hot Encoding?"
      ],
      "execution_count": 0,
      "outputs": []
    },
    {
      "cell_type": "code",
      "metadata": {
        "id": "CoEVgZSG-Ob8",
        "colab_type": "code",
        "outputId": "e9c12b19-ed6c-43f6-9d6c-8a5b62df6ad0",
        "colab": {
          "base_uri": "https://localhost:8080/",
          "height": 359
        }
      },
      "source": [
        "churn_drop_df.head (10)"
      ],
      "execution_count": 0,
      "outputs": [
        {
          "output_type": "execute_result",
          "data": {
            "text/html": [
              "<div>\n",
              "<style scoped>\n",
              "    .dataframe tbody tr th:only-of-type {\n",
              "        vertical-align: middle;\n",
              "    }\n",
              "\n",
              "    .dataframe tbody tr th {\n",
              "        vertical-align: top;\n",
              "    }\n",
              "\n",
              "    .dataframe thead th {\n",
              "        text-align: right;\n",
              "    }\n",
              "</style>\n",
              "<table border=\"1\" class=\"dataframe\">\n",
              "  <thead>\n",
              "    <tr style=\"text-align: right;\">\n",
              "      <th></th>\n",
              "      <th>risk_tolerance</th>\n",
              "      <th>investment_experience</th>\n",
              "      <th>liquidity_needs</th>\n",
              "      <th>platform</th>\n",
              "      <th>time_spent</th>\n",
              "      <th>instrument_type_first_traded</th>\n",
              "      <th>first_deposit_amount</th>\n",
              "      <th>time_horizon</th>\n",
              "      <th>churn</th>\n",
              "    </tr>\n",
              "  </thead>\n",
              "  <tbody>\n",
              "    <tr>\n",
              "      <th>0</th>\n",
              "      <td>0</td>\n",
              "      <td>2</td>\n",
              "      <td>2</td>\n",
              "      <td>0</td>\n",
              "      <td>33.129417</td>\n",
              "      <td>8</td>\n",
              "      <td>40.0</td>\n",
              "      <td>1</td>\n",
              "      <td>0.0</td>\n",
              "    </tr>\n",
              "    <tr>\n",
              "      <th>1</th>\n",
              "      <td>2</td>\n",
              "      <td>2</td>\n",
              "      <td>2</td>\n",
              "      <td>0</td>\n",
              "      <td>16.573517</td>\n",
              "      <td>8</td>\n",
              "      <td>200.0</td>\n",
              "      <td>2</td>\n",
              "      <td>0.0</td>\n",
              "    </tr>\n",
              "    <tr>\n",
              "      <th>2</th>\n",
              "      <td>2</td>\n",
              "      <td>2</td>\n",
              "      <td>2</td>\n",
              "      <td>2</td>\n",
              "      <td>10.008367</td>\n",
              "      <td>8</td>\n",
              "      <td>25.0</td>\n",
              "      <td>0</td>\n",
              "      <td>0.0</td>\n",
              "    </tr>\n",
              "    <tr>\n",
              "      <th>3</th>\n",
              "      <td>2</td>\n",
              "      <td>2</td>\n",
              "      <td>2</td>\n",
              "      <td>0</td>\n",
              "      <td>1.031633</td>\n",
              "      <td>8</td>\n",
              "      <td>100.0</td>\n",
              "      <td>2</td>\n",
              "      <td>0.0</td>\n",
              "    </tr>\n",
              "    <tr>\n",
              "      <th>4</th>\n",
              "      <td>0</td>\n",
              "      <td>2</td>\n",
              "      <td>2</td>\n",
              "      <td>0</td>\n",
              "      <td>8.187250</td>\n",
              "      <td>8</td>\n",
              "      <td>20.0</td>\n",
              "      <td>0</td>\n",
              "      <td>0.0</td>\n",
              "    </tr>\n",
              "    <tr>\n",
              "      <th>5</th>\n",
              "      <td>2</td>\n",
              "      <td>3</td>\n",
              "      <td>0</td>\n",
              "      <td>2</td>\n",
              "      <td>12.968117</td>\n",
              "      <td>8</td>\n",
              "      <td>100.0</td>\n",
              "      <td>1</td>\n",
              "      <td>0.0</td>\n",
              "    </tr>\n",
              "    <tr>\n",
              "      <th>6</th>\n",
              "      <td>1</td>\n",
              "      <td>1</td>\n",
              "      <td>2</td>\n",
              "      <td>0</td>\n",
              "      <td>30.710083</td>\n",
              "      <td>8</td>\n",
              "      <td>5.0</td>\n",
              "      <td>0</td>\n",
              "      <td>1.0</td>\n",
              "    </tr>\n",
              "    <tr>\n",
              "      <th>7</th>\n",
              "      <td>0</td>\n",
              "      <td>1</td>\n",
              "      <td>1</td>\n",
              "      <td>2</td>\n",
              "      <td>0.000000</td>\n",
              "      <td>8</td>\n",
              "      <td>100.0</td>\n",
              "      <td>2</td>\n",
              "      <td>0.0</td>\n",
              "    </tr>\n",
              "    <tr>\n",
              "      <th>8</th>\n",
              "      <td>0</td>\n",
              "      <td>1</td>\n",
              "      <td>2</td>\n",
              "      <td>2</td>\n",
              "      <td>0.000000</td>\n",
              "      <td>8</td>\n",
              "      <td>5000.0</td>\n",
              "      <td>2</td>\n",
              "      <td>0.0</td>\n",
              "    </tr>\n",
              "    <tr>\n",
              "      <th>9</th>\n",
              "      <td>2</td>\n",
              "      <td>3</td>\n",
              "      <td>2</td>\n",
              "      <td>0</td>\n",
              "      <td>2.969617</td>\n",
              "      <td>8</td>\n",
              "      <td>11.0</td>\n",
              "      <td>1</td>\n",
              "      <td>0.0</td>\n",
              "    </tr>\n",
              "  </tbody>\n",
              "</table>\n",
              "</div>"
            ],
            "text/plain": [
              "   risk_tolerance  investment_experience  liquidity_needs  platform  \\\n",
              "0               0                      2                2         0   \n",
              "1               2                      2                2         0   \n",
              "2               2                      2                2         2   \n",
              "3               2                      2                2         0   \n",
              "4               0                      2                2         0   \n",
              "5               2                      3                0         2   \n",
              "6               1                      1                2         0   \n",
              "7               0                      1                1         2   \n",
              "8               0                      1                2         2   \n",
              "9               2                      3                2         0   \n",
              "\n",
              "   time_spent  instrument_type_first_traded  first_deposit_amount  \\\n",
              "0   33.129417                             8                  40.0   \n",
              "1   16.573517                             8                 200.0   \n",
              "2   10.008367                             8                  25.0   \n",
              "3    1.031633                             8                 100.0   \n",
              "4    8.187250                             8                  20.0   \n",
              "5   12.968117                             8                 100.0   \n",
              "6   30.710083                             8                   5.0   \n",
              "7    0.000000                             8                 100.0   \n",
              "8    0.000000                             8                5000.0   \n",
              "9    2.969617                             8                  11.0   \n",
              "\n",
              "   time_horizon  churn  \n",
              "0             1    0.0  \n",
              "1             2    0.0  \n",
              "2             0    0.0  \n",
              "3             2    0.0  \n",
              "4             0    0.0  \n",
              "5             1    0.0  \n",
              "6             0    1.0  \n",
              "7             2    0.0  \n",
              "8             2    0.0  \n",
              "9             1    0.0  "
            ]
          },
          "metadata": {
            "tags": []
          },
          "execution_count": 20
        }
      ]
    },
    {
      "cell_type": "code",
      "metadata": {
        "id": "xPY5q1Dy-Ob_",
        "colab_type": "code",
        "outputId": "aa8b8785-6e56-4093-c462-7419962833b9",
        "colab": {
          "base_uri": "https://localhost:8080/",
          "height": 421
        }
      },
      "source": [
        "# check correlation\n",
        "import seaborn as sb\n",
        "corr = churn_drop_df[[\"risk_tolerance\", \"investment_experience\", \"liquidity_needs\",\n",
        "                    \"platform\", \"time_spent\", \"instrument_type_first_traded\",\n",
        "                    \"first_deposit_amount\", \"time_horizon\"]].corr()\n",
        "\n",
        "sb.heatmap(corr)"
      ],
      "execution_count": 0,
      "outputs": [
        {
          "output_type": "execute_result",
          "data": {
            "text/plain": [
              "<matplotlib.axes._subplots.AxesSubplot at 0x7f9196941eb8>"
            ]
          },
          "metadata": {
            "tags": []
          },
          "execution_count": 21
        },
        {
          "output_type": "display_data",
          "data": {
            "image/png": "[encoded data removed]",
            "text/plain": [
              "<Figure size 432x288 with 2 Axes>"
            ]
          },
          "metadata": {
            "tags": []
          }
        }
      ]
    },
    {
      "cell_type": "code",
      "metadata": {
        "id": "_xYZl5tM-OcC",
        "colab_type": "code",
        "outputId": "d97cf315-9818-49cf-99e2-efd17b6037d1",
        "colab": {
          "base_uri": "https://localhost:8080/",
          "height": 317
        }
      },
      "source": [
        "corr\n",
        "#seems need to keep all categorical features."
      ],
      "execution_count": 0,
      "outputs": [
        {
          "output_type": "execute_result",
          "data": {
            "text/html": [
              "<div>\n",
              "<style scoped>\n",
              "    .dataframe tbody tr th:only-of-type {\n",
              "        vertical-align: middle;\n",
              "    }\n",
              "\n",
              "    .dataframe tbody tr th {\n",
              "        vertical-align: top;\n",
              "    }\n",
              "\n",
              "    .dataframe thead th {\n",
              "        text-align: right;\n",
              "    }\n",
              "</style>\n",
              "<table border=\"1\" class=\"dataframe\">\n",
              "  <thead>\n",
              "    <tr style=\"text-align: right;\">\n",
              "      <th></th>\n",
              "      <th>risk_tolerance</th>\n",
              "      <th>investment_experience</th>\n",
              "      <th>liquidity_needs</th>\n",
              "      <th>platform</th>\n",
              "      <th>time_spent</th>\n",
              "      <th>instrument_type_first_traded</th>\n",
              "      <th>first_deposit_amount</th>\n",
              "      <th>time_horizon</th>\n",
              "    </tr>\n",
              "  </thead>\n",
              "  <tbody>\n",
              "    <tr>\n",
              "      <th>risk_tolerance</th>\n",
              "      <td>1.000000</td>\n",
              "      <td>0.154137</td>\n",
              "      <td>-0.039705</td>\n",
              "      <td>-0.010369</td>\n",
              "      <td>0.012712</td>\n",
              "      <td>0.029590</td>\n",
              "      <td>-0.035942</td>\n",
              "      <td>0.117339</td>\n",
              "    </tr>\n",
              "    <tr>\n",
              "      <th>investment_experience</th>\n",
              "      <td>0.154137</td>\n",
              "      <td>1.000000</td>\n",
              "      <td>-0.053162</td>\n",
              "      <td>0.038527</td>\n",
              "      <td>-0.018126</td>\n",
              "      <td>0.086380</td>\n",
              "      <td>-0.127102</td>\n",
              "      <td>0.124193</td>\n",
              "    </tr>\n",
              "    <tr>\n",
              "      <th>liquidity_needs</th>\n",
              "      <td>-0.039705</td>\n",
              "      <td>-0.053162</td>\n",
              "      <td>1.000000</td>\n",
              "      <td>-0.312615</td>\n",
              "      <td>-0.011965</td>\n",
              "      <td>-0.004097</td>\n",
              "      <td>0.016838</td>\n",
              "      <td>-0.011693</td>\n",
              "    </tr>\n",
              "    <tr>\n",
              "      <th>platform</th>\n",
              "      <td>-0.010369</td>\n",
              "      <td>0.038527</td>\n",
              "      <td>-0.312615</td>\n",
              "      <td>1.000000</td>\n",
              "      <td>-0.027540</td>\n",
              "      <td>-0.033716</td>\n",
              "      <td>0.004971</td>\n",
              "      <td>0.031035</td>\n",
              "    </tr>\n",
              "    <tr>\n",
              "      <th>time_spent</th>\n",
              "      <td>0.012712</td>\n",
              "      <td>-0.018126</td>\n",
              "      <td>-0.011965</td>\n",
              "      <td>-0.027540</td>\n",
              "      <td>1.000000</td>\n",
              "      <td>0.010978</td>\n",
              "      <td>-0.000770</td>\n",
              "      <td>-0.014316</td>\n",
              "    </tr>\n",
              "    <tr>\n",
              "      <th>instrument_type_first_traded</th>\n",
              "      <td>0.029590</td>\n",
              "      <td>0.086380</td>\n",
              "      <td>-0.004097</td>\n",
              "      <td>-0.033716</td>\n",
              "      <td>0.010978</td>\n",
              "      <td>1.000000</td>\n",
              "      <td>-0.025246</td>\n",
              "      <td>0.053856</td>\n",
              "    </tr>\n",
              "    <tr>\n",
              "      <th>first_deposit_amount</th>\n",
              "      <td>-0.035942</td>\n",
              "      <td>-0.127102</td>\n",
              "      <td>0.016838</td>\n",
              "      <td>0.004971</td>\n",
              "      <td>-0.000770</td>\n",
              "      <td>-0.025246</td>\n",
              "      <td>1.000000</td>\n",
              "      <td>-0.006896</td>\n",
              "    </tr>\n",
              "    <tr>\n",
              "      <th>time_horizon</th>\n",
              "      <td>0.117339</td>\n",
              "      <td>0.124193</td>\n",
              "      <td>-0.011693</td>\n",
              "      <td>0.031035</td>\n",
              "      <td>-0.014316</td>\n",
              "      <td>0.053856</td>\n",
              "      <td>-0.006896</td>\n",
              "      <td>1.000000</td>\n",
              "    </tr>\n",
              "  </tbody>\n",
              "</table>\n",
              "</div>"
            ],
            "text/plain": [
              "                              risk_tolerance  investment_experience  \\\n",
              "risk_tolerance                      1.000000               0.154137   \n",
              "investment_experience               0.154137               1.000000   \n",
              "liquidity_needs                    -0.039705              -0.053162   \n",
              "platform                           -0.010369               0.038527   \n",
              "time_spent                          0.012712              -0.018126   \n",
              "instrument_type_first_traded        0.029590               0.086380   \n",
              "first_deposit_amount               -0.035942              -0.127102   \n",
              "time_horizon                        0.117339               0.124193   \n",
              "\n",
              "                              liquidity_needs  platform  time_spent  \\\n",
              "risk_tolerance                      -0.039705 -0.010369    0.012712   \n",
              "investment_experience               -0.053162  0.038527   -0.018126   \n",
              "liquidity_needs                      1.000000 -0.312615   -0.011965   \n",
              "platform                            -0.312615  1.000000   -0.027540   \n",
              "time_spent                          -0.011965 -0.027540    1.000000   \n",
              "instrument_type_first_traded        -0.004097 -0.033716    0.010978   \n",
              "first_deposit_amount                 0.016838  0.004971   -0.000770   \n",
              "time_horizon                        -0.011693  0.031035   -0.014316   \n",
              "\n",
              "                              instrument_type_first_traded  \\\n",
              "risk_tolerance                                    0.029590   \n",
              "investment_experience                             0.086380   \n",
              "liquidity_needs                                  -0.004097   \n",
              "platform                                         -0.033716   \n",
              "time_spent                                        0.010978   \n",
              "instrument_type_first_traded                      1.000000   \n",
              "first_deposit_amount                             -0.025246   \n",
              "time_horizon                                      0.053856   \n",
              "\n",
              "                              first_deposit_amount  time_horizon  \n",
              "risk_tolerance                           -0.035942      0.117339  \n",
              "investment_experience                    -0.127102      0.124193  \n",
              "liquidity_needs                           0.016838     -0.011693  \n",
              "platform                                  0.004971      0.031035  \n",
              "time_spent                               -0.000770     -0.014316  \n",
              "instrument_type_first_traded             -0.025246      0.053856  \n",
              "first_deposit_amount                      1.000000     -0.006896  \n",
              "time_horizon                             -0.006896      1.000000  "
            ]
          },
          "metadata": {
            "tags": []
          },
          "execution_count": 22
        }
      ]
    },
    {
      "cell_type": "code",
      "metadata": {
        "id": "aUASR_RK-OcF",
        "colab_type": "code",
        "outputId": "adbf23fb-e239-416e-b1fd-d0167e6e27ce",
        "colab": {
          "base_uri": "https://localhost:8080/",
          "height": 34
        }
      },
      "source": [
        "X = churn_drop_df.drop('churn', axis=1)\n",
        "# Scale the data\n",
        "from sklearn.preprocessing import StandardScaler\n",
        "scaler = StandardScaler()\n",
        "X = scaler.fit_transform(X)\n",
        "\n",
        "print (\"Feature space holds %d observations and %d features\" % X.shape)\n",
        "\n",
        "# StandardScaler or something else?"
      ],
      "execution_count": 0,
      "outputs": [
        {
          "output_type": "stream",
          "text": [
            "Feature space holds 5584 observations and 8 features\n"
          ],
          "name": "stdout"
        }
      ]
    },
    {
      "cell_type": "code",
      "metadata": {
        "id": "AeMzmg8T-OcI",
        "colab_type": "code",
        "outputId": "80ec8fe5-1e32-4b57-d4f5-10ca3693f8c6",
        "colab": {
          "base_uri": "https://localhost:8080/",
          "height": 238
        }
      },
      "source": [
        "X"
      ],
      "execution_count": 0,
      "outputs": [
        {
          "output_type": "execute_result",
          "data": {
            "text/plain": [
              "array([[-0.73547285, -0.1208865 ,  0.53243732, ...,  0.36795819,\n",
              "        -0.28023105, -0.19978059],\n",
              "       [ 1.42775095, -0.1208865 ,  0.53243732, ...,  0.36795819,\n",
              "        -0.20469285,  0.9157942 ],\n",
              "       [ 1.42775095, -0.1208865 ,  0.53243732, ...,  0.36795819,\n",
              "        -0.28731276, -1.31535538],\n",
              "       ...,\n",
              "       [ 1.42775095,  1.20270212,  0.53243732, ...,  0.36795819,\n",
              "        -0.27550992,  0.9157942 ],\n",
              "       [ 1.42775095, -0.1208865 , -1.29718113, ...,  0.36795819,\n",
              "        -0.25190423, -1.31535538],\n",
              "       [-0.73547285, -0.1208865 , -1.29718113, ...,  0.36795819,\n",
              "        -0.27550992, -1.31535538]])"
            ]
          },
          "metadata": {
            "tags": []
          },
          "execution_count": 24
        }
      ]
    },
    {
      "cell_type": "code",
      "metadata": {
        "id": "JnkuXB6j-OcM",
        "colab_type": "code",
        "colab": {}
      },
      "source": [
        "# Get ground truth data\n",
        "y = churn_drop_df['churn'] \n",
        "#print(y)"
      ],
      "execution_count": 0,
      "outputs": []
    },
    {
      "cell_type": "code",
      "metadata": {
        "id": "fuieFPsp-OcR",
        "colab_type": "code",
        "outputId": "c9a1041c-f9ea-4042-94e4-479bedfcc9f7",
        "colab": {
          "base_uri": "https://localhost:8080/",
          "height": 51
        }
      },
      "source": [
        "#Split dataset\n",
        "from sklearn import model_selection\n",
        "X_train, X_test, y_train, y_test = model_selection.train_test_split(X, y, test_size=0.2)\n",
        "\n",
        "print('training data has %d observation with %d features'% X_train.shape)\n",
        "print('test data has %d observation with %d features'% X_test.shape)"
      ],
      "execution_count": 0,
      "outputs": [
        {
          "output_type": "stream",
          "text": [
            "training data has 4467 observation with 8 features\n",
            "test data has 1117 observation with 8 features\n"
          ],
          "name": "stdout"
        }
      ]
    },
    {
      "cell_type": "code",
      "metadata": {
        "id": "DFIGz2w3HEU_",
        "colab_type": "code",
        "colab": {}
      },
      "source": [
        "#Smote Sampling\n",
        "from imblearn.over_sampling import SMOTE\n",
        "smote = SMOTE(random_state=12)\n",
        "X_train, y_train = smote.fit_sample(X_train, y_train)"
      ],
      "execution_count": 0,
      "outputs": []
    },
    {
      "cell_type": "code",
      "metadata": {
        "id": "nSKW8ygYH0Q_",
        "colab_type": "code",
        "outputId": "549974d7-0638-4f2f-a504-ac9ea686857b",
        "colab": {
          "base_uri": "https://localhost:8080/",
          "height": 51
        }
      },
      "source": [
        "print('training data has %d observation with %d features'% X_train.shape)\n",
        "print('test data has %d observation with %d features'% X_test.shape)\n",
        "\n",
        "# Smote Sampling or downsampling/upsampling"
      ],
      "execution_count": 0,
      "outputs": [
        {
          "output_type": "stream",
          "text": [
            "training data has 8478 observation with 8 features\n",
            "test data has 1117 observation with 8 features\n"
          ],
          "name": "stdout"
        }
      ]
    },
    {
      "cell_type": "code",
      "metadata": {
        "id": "f_65TMju-OcV",
        "colab_type": "code",
        "colab": {}
      },
      "source": [
        "#model training and selection\n",
        "from sklearn.ensemble import RandomForestClassifier\n",
        "from sklearn.neighbors import KNeighborsClassifier \n",
        "from sklearn.linear_model import LogisticRegression\n",
        "\n",
        "classifier_logistic = LogisticRegression()\n",
        "classifier_KNN = KNeighborsClassifier()\n",
        "classifier_RF = RandomForestClassifier()"
      ],
      "execution_count": 0,
      "outputs": []
    },
    {
      "cell_type": "code",
      "metadata": {
        "id": "UTYM83f--OcX",
        "colab_type": "code",
        "outputId": "e7d01ce8-9f83-48d0-a041-620430acf036",
        "colab": {
          "base_uri": "https://localhost:8080/",
          "height": 68
        }
      },
      "source": [
        "model_names = ['Logistic Regression','KNN','Random Forest']\n",
        "model_list = [classifier_logistic, classifier_KNN, classifier_RF]\n",
        "count = 0\n",
        "for classifier in model_list:\n",
        "    cv_score = model_selection.cross_val_score(classifier, X_train, y_train, cv=5)\n",
        "    print('Model accuracy of %s is: %.3f'%(model_names[count],cv_score.mean()))\n",
        "    count += 1"
      ],
      "execution_count": 0,
      "outputs": [
        {
          "output_type": "stream",
          "text": [
            "Model accuracy of Logistic Regression is: 0.563\n",
            "Model accuracy of KNN is: 0.855\n",
            "Model accuracy of Random Forest is: 0.922\n"
          ],
          "name": "stdout"
        }
      ]
    },
    {
      "cell_type": "code",
      "metadata": {
        "id": "abcsJF3z-OcZ",
        "colab_type": "code",
        "colab": {}
      },
      "source": [
        "#find best parameter of Logistic Regression\n",
        "from sklearn.model_selection import GridSearchCV\n",
        "def print_grid_search_metrics(gs):\n",
        "    print (\"Best score: %0.3f\" % gs.best_score_)\n",
        "    print (\"Best parameters set:\")\n",
        "    best_parameters = gs.best_params_\n",
        "    for param_name in sorted(parameters.keys()):\n",
        "        print(\"\\t%s: %r\" % (param_name, best_parameters[param_name]))"
      ],
      "execution_count": 0,
      "outputs": []
    },
    {
      "cell_type": "code",
      "metadata": {
        "id": "styR6EJ--Ocb",
        "colab_type": "code",
        "outputId": "f9c63de2-8741-40e4-fdcc-485842dd7826",
        "colab": {
          "base_uri": "https://localhost:8080/",
          "height": 238
        }
      },
      "source": [
        "parameters = {\n",
        "    'penalty':('l1', 'l2'), \n",
        "    'C':(1, 2, 4, 7, 10)\n",
        "}\n",
        "Grid_LR = GridSearchCV(LogisticRegression(),parameters, cv=5)\n",
        "Grid_LR.fit(X_train, y_train)"
      ],
      "execution_count": 0,
      "outputs": [
        {
          "output_type": "execute_result",
          "data": {
            "text/plain": [
              "GridSearchCV(cv=5, error_score='raise-deprecating',\n",
              "             estimator=LogisticRegression(C=1.0, class_weight=None, dual=False,\n",
              "                                          fit_intercept=True,\n",
              "                                          intercept_scaling=1, l1_ratio=None,\n",
              "                                          max_iter=100, multi_class='warn',\n",
              "                                          n_jobs=None, penalty='l2',\n",
              "                                          random_state=None, solver='warn',\n",
              "                                          tol=0.0001, verbose=0,\n",
              "                                          warm_start=False),\n",
              "             iid='warn', n_jobs=None,\n",
              "             param_grid={'C': (1, 2, 4, 7, 10), 'penalty': ('l1', 'l2')},\n",
              "             pre_dispatch='2*n_jobs', refit=True, return_train_score=False,\n",
              "             scoring=None, verbose=0)"
            ]
          },
          "metadata": {
            "tags": []
          },
          "execution_count": 33
        }
      ]
    },
    {
      "cell_type": "code",
      "metadata": {
        "id": "rsQttgKw-Ocd",
        "colab_type": "code",
        "outputId": "bc0ee594-4399-44ab-da33-c7b78adf370d",
        "colab": {
          "base_uri": "https://localhost:8080/",
          "height": 85
        }
      },
      "source": [
        "print_grid_search_metrics(Grid_LR)"
      ],
      "execution_count": 0,
      "outputs": [
        {
          "output_type": "stream",
          "text": [
            "Best score: 0.563\n",
            "Best parameters set:\n",
            "\tC: 1\n",
            "\tpenalty: 'l2'\n"
          ],
          "name": "stdout"
        }
      ]
    },
    {
      "cell_type": "code",
      "metadata": {
        "id": "4WN9sufg-Ocg",
        "colab_type": "code",
        "colab": {}
      },
      "source": [
        "best_LR_model = Grid_LR.best_estimator_"
      ],
      "execution_count": 0,
      "outputs": []
    },
    {
      "cell_type": "code",
      "metadata": {
        "id": "3KAs2SM2-Oci",
        "colab_type": "code",
        "outputId": "6e7985b1-de36-4a88-c0b4-70562cf5f46c",
        "colab": {
          "base_uri": "https://localhost:8080/",
          "height": 187
        }
      },
      "source": [
        "#Find Optimal Hyperparameters: KNN\n",
        "parameters = {\n",
        "    'n_neighbors':[3,5,7,10,15] \n",
        "}\n",
        "Grid_KNN = GridSearchCV(KNeighborsClassifier(),parameters, cv=5)\n",
        "Grid_KNN.fit(X_train, y_train)"
      ],
      "execution_count": 0,
      "outputs": [
        {
          "output_type": "execute_result",
          "data": {
            "text/plain": [
              "GridSearchCV(cv=5, error_score='raise-deprecating',\n",
              "             estimator=KNeighborsClassifier(algorithm='auto', leaf_size=30,\n",
              "                                            metric='minkowski',\n",
              "                                            metric_params=None, n_jobs=None,\n",
              "                                            n_neighbors=5, p=2,\n",
              "                                            weights='uniform'),\n",
              "             iid='warn', n_jobs=None,\n",
              "             param_grid={'n_neighbors': [3, 5, 7, 10, 15]},\n",
              "             pre_dispatch='2*n_jobs', refit=True, return_train_score=False,\n",
              "             scoring=None, verbose=0)"
            ]
          },
          "metadata": {
            "tags": []
          },
          "execution_count": 36
        }
      ]
    },
    {
      "cell_type": "code",
      "metadata": {
        "id": "TIqyMdZl-Ocl",
        "colab_type": "code",
        "outputId": "aa15d7fd-1d01-4f04-be11-0a4b4b685860",
        "colab": {
          "base_uri": "https://localhost:8080/",
          "height": 68
        }
      },
      "source": [
        "print_grid_search_metrics(Grid_KNN)"
      ],
      "execution_count": 0,
      "outputs": [
        {
          "output_type": "stream",
          "text": [
            "Best score: 0.876\n",
            "Best parameters set:\n",
            "\tn_neighbors: 3\n"
          ],
          "name": "stdout"
        }
      ]
    },
    {
      "cell_type": "code",
      "metadata": {
        "id": "WGUVbD2yNY2n",
        "colab_type": "code",
        "colab": {}
      },
      "source": [
        "best_KNN_model = Grid_KNN.best_estimator_"
      ],
      "execution_count": 0,
      "outputs": []
    },
    {
      "cell_type": "code",
      "metadata": {
        "id": "hTEFbOuR-Ocr",
        "colab_type": "code",
        "outputId": "f65ffb1c-11dc-490d-cf75-24524dcd0684",
        "colab": {
          "base_uri": "https://localhost:8080/",
          "height": 323
        }
      },
      "source": [
        "#Find Optimal Hyperparameters: Random Forest\n",
        "parameters = {\n",
        "    'n_estimators' : [20,40,60,80]\n",
        "}\n",
        "Grid_RF = GridSearchCV(RandomForestClassifier(),parameters, cv=5)\n",
        "Grid_RF.fit(X_train, y_train)"
      ],
      "execution_count": 0,
      "outputs": [
        {
          "output_type": "execute_result",
          "data": {
            "text/plain": [
              "GridSearchCV(cv=5, error_score='raise-deprecating',\n",
              "             estimator=RandomForestClassifier(bootstrap=True, class_weight=None,\n",
              "                                              criterion='gini', max_depth=None,\n",
              "                                              max_features='auto',\n",
              "                                              max_leaf_nodes=None,\n",
              "                                              min_impurity_decrease=0.0,\n",
              "                                              min_impurity_split=None,\n",
              "                                              min_samples_leaf=1,\n",
              "                                              min_samples_split=2,\n",
              "                                              min_weight_fraction_leaf=0.0,\n",
              "                                              n_estimators='warn', n_jobs=None,\n",
              "                                              oob_score=False,\n",
              "                                              random_state=None, verbose=0,\n",
              "                                              warm_start=False),\n",
              "             iid='warn', n_jobs=None,\n",
              "             param_grid={'n_estimators': [20, 40, 60, 80]},\n",
              "             pre_dispatch='2*n_jobs', refit=True, return_train_score=False,\n",
              "             scoring=None, verbose=0)"
            ]
          },
          "metadata": {
            "tags": []
          },
          "execution_count": 38
        }
      ]
    },
    {
      "cell_type": "code",
      "metadata": {
        "id": "Ga5YxiKR-Ocv",
        "colab_type": "code",
        "outputId": "7bdd53ad-4b82-4a90-f2fd-f22f84b054b2",
        "colab": {
          "base_uri": "https://localhost:8080/",
          "height": 68
        }
      },
      "source": [
        "print_grid_search_metrics(Grid_RF)"
      ],
      "execution_count": 0,
      "outputs": [
        {
          "output_type": "stream",
          "text": [
            "Best score: 0.937\n",
            "Best parameters set:\n",
            "\tn_estimators: 80\n"
          ],
          "name": "stdout"
        }
      ]
    },
    {
      "cell_type": "code",
      "metadata": {
        "id": "Ov-YgQFk-Ocy",
        "colab_type": "code",
        "colab": {}
      },
      "source": [
        "best_RF_model = Grid_RF.best_estimator_"
      ],
      "execution_count": 0,
      "outputs": []
    },
    {
      "cell_type": "code",
      "metadata": {
        "id": "D_hOdOQF-Oc1",
        "colab_type": "code",
        "colab": {}
      },
      "source": [
        "#Model Evaluation\n",
        "from sklearn.metrics import confusion_matrix\n",
        "from sklearn.metrics import precision_score\n",
        "from sklearn.metrics import recall_score\n",
        "\n",
        "def cal_evaluation(classifier, cm):\n",
        "    tn = cm[0][0]\n",
        "    fp = cm[0][1]\n",
        "    fn = cm[1][0]\n",
        "    tp = cm[1][1]\n",
        "    accuracy  = (tp + tn) / (tp + fp + fn + tn + 0.0)\n",
        "    precision = tp / (tp + fp + 0.0)\n",
        "    recall = tp / (tp + fn + 0.0)\n",
        "    print (classifier)\n",
        "    print (\"Accuracy is: %0.3f\" % accuracy)\n",
        "    print (\"precision is: %0.3f\" % precision)\n",
        "    print (\"recall is: %0.3f\" % recall)\n",
        "\n",
        "def draw_confusion_matrices(confusion_matricies):\n",
        "    class_names = ['Not','Churn']\n",
        "    for cm in confusion_matrices:\n",
        "        classifier, cm = cm[0], cm[1]\n",
        "        cal_evaluation(classifier, cm)\n",
        "        fig = plt.figure()\n",
        "        ax = fig.add_subplot(111)\n",
        "        cax = ax.matshow(cm, interpolation='nearest',cmap=plt.get_cmap('Reds'))\n",
        "        plt.title('Confusion matrix for %s' % classifier)\n",
        "        fig.colorbar(cax)\n",
        "        ax.set_xticklabels([''] + class_names)\n",
        "        ax.set_yticklabels([''] + class_names)\n",
        "        plt.xlabel('Predicted')\n",
        "        plt.ylabel('True')\n",
        "        plt.show()"
      ],
      "execution_count": 0,
      "outputs": []
    },
    {
      "cell_type": "code",
      "metadata": {
        "id": "cx9Kalei-Oc2",
        "colab_type": "code",
        "outputId": "d3c27790-25b1-4386-e912-05957d247741",
        "colab": {
          "base_uri": "https://localhost:8080/",
          "height": 1000
        }
      },
      "source": [
        "%matplotlib inline\n",
        "\n",
        "confusion_matrices = [\n",
        "    (\"Random Forest\", confusion_matrix(y_test,best_RF_model.predict(X_test))),\n",
        "    (\"KNN\", confusion_matrix(y_test,best_KNN_model.predict(X_test))),\n",
        "    (\"Logistic Regression\", confusion_matrix(y_test,best_LR_model.predict(X_test))),\n",
        "]\n",
        "\n",
        "draw_confusion_matrices(confusion_matrices)"
      ],
      "execution_count": 0,
      "outputs": [
        {
          "output_type": "stream",
          "text": [
            "Random Forest\n",
            "Accuracy is: 0.914\n",
            "precision is: 0.075\n",
            "recall is: 0.078\n"
          ],
          "name": "stdout"
        },
        {
          "output_type": "display_data",
          "data": {
            "image/png": "[encoded data removed]",
            "text/plain": [
              "<Figure size 432x288 with 2 Axes>"
            ]
          },
          "metadata": {
            "tags": []
          }
        },
        {
          "output_type": "stream",
          "text": [
            "KNN\n",
            "Accuracy is: 0.838\n",
            "precision is: 0.083\n",
            "recall is: 0.255\n"
          ],
          "name": "stdout"
        },
        {
          "output_type": "display_data",
          "data": {
            "image/png": "[encoded data removed]",
            "text/plain": [
              "<Figure size 432x288 with 2 Axes>"
            ]
          },
          "metadata": {
            "tags": []
          }
        },
        {
          "output_type": "stream",
          "text": [
            "Logistic Regression\n",
            "Accuracy is: 0.613\n",
            "precision is: 0.070\n",
            "recall is: 0.608\n"
          ],
          "name": "stdout"
        },
        {
          "output_type": "display_data",
          "data": {
            "image/png": "[encoded data removed]",
            "text/plain": [
              "<Figure size 432x288 with 2 Axes>"
            ]
          },
          "metadata": {
            "tags": []
          }
        }
      ]
    },
    {
      "cell_type": "code",
      "metadata": {
        "id": "HAKzPZqk-Oc4",
        "colab_type": "code",
        "outputId": "565ff5eb-529d-4f92-aed5-a3ded29d5fb0",
        "colab": {
          "base_uri": "https://localhost:8080/",
          "height": 295
        }
      },
      "source": [
        "#ROC of RF Model\n",
        "from sklearn.metrics import roc_curve\n",
        "from sklearn import metrics\n",
        "y_pred_rf = best_RF_model.predict_proba(X_test)[:, 1]\n",
        "fpr_rf, tpr_rf, _ = roc_curve(y_test, y_pred_rf)\n",
        "plt.figure(1)\n",
        "plt.plot([0, 1], [0, 1], 'k--')\n",
        "plt.plot(fpr_rf, tpr_rf, label='RF')\n",
        "plt.xlabel('False positive rate')\n",
        "plt.ylabel('True positive rate')\n",
        "plt.title('ROC curve - RF model')\n",
        "plt.legend(loc='best')\n",
        "plt.show()"
      ],
      "execution_count": 0,
      "outputs": [
        {
          "output_type": "display_data",
          "data": {
            "image/png": "[encoded data removed]",
            "text/plain": [
              "<Figure size 432x288 with 1 Axes>"
            ]
          },
          "metadata": {
            "tags": []
          }
        }
      ]
    },
    {
      "cell_type": "code",
      "metadata": {
        "id": "-b1uL7Xk-Oc6",
        "colab_type": "code",
        "outputId": "c95b0fea-ef4b-40f7-9d2e-918e15c11fb6",
        "colab": {
          "base_uri": "https://localhost:8080/",
          "height": 34
        }
      },
      "source": [
        "from sklearn import metrics\n",
        "metrics.auc(fpr_rf,tpr_rf)"
      ],
      "execution_count": 0,
      "outputs": [
        {
          "output_type": "execute_result",
          "data": {
            "text/plain": [
              "0.5997866313504764"
            ]
          },
          "metadata": {
            "tags": []
          },
          "execution_count": 44
        }
      ]
    },
    {
      "cell_type": "code",
      "metadata": {
        "id": "XrjS9kbh-Oc8",
        "colab_type": "code",
        "outputId": "f34d4143-3384-4e93-fedb-b12e66b05101",
        "colab": {
          "base_uri": "https://localhost:8080/",
          "height": 295
        }
      },
      "source": [
        "#ROC of LR Model\n",
        "y_pred_lr = best_LR_model.predict_proba(X_test)[:, 1]\n",
        "fpr_lr, tpr_lr, _ = roc_curve(y_test, y_pred_lr)\n",
        "plt.figure(1)\n",
        "plt.plot([0, 1], [0, 1], 'k--')\n",
        "plt.plot(fpr_lr, tpr_lr, label='LR')\n",
        "plt.xlabel('False positive rate')\n",
        "plt.ylabel('True positive rate')\n",
        "plt.title('ROC curve - LR Model')\n",
        "plt.legend(loc='best')\n",
        "plt.show()"
      ],
      "execution_count": 0,
      "outputs": [
        {
          "output_type": "display_data",
          "data": {
            "image/png": "[encoded data removed]",
            "text/plain": [
              "<Figure size 432x288 with 1 Axes>"
            ]
          },
          "metadata": {
            "tags": []
          }
        }
      ]
    },
    {
      "cell_type": "code",
      "metadata": {
        "id": "oA87oUuY-Oc_",
        "colab_type": "code",
        "outputId": "fe49fb7c-706d-4195-ba03-5064590ecba9",
        "colab": {
          "base_uri": "https://localhost:8080/",
          "height": 34
        }
      },
      "source": [
        "metrics.auc(fpr_lr,tpr_lr)"
      ],
      "execution_count": 0,
      "outputs": [
        {
          "output_type": "execute_result",
          "data": {
            "text/plain": [
              "0.6260254570871501"
            ]
          },
          "metadata": {
            "tags": []
          },
          "execution_count": 46
        }
      ]
    },
    {
      "cell_type": "code",
      "metadata": {
        "id": "B3WUweWW-OdB",
        "colab_type": "code",
        "outputId": "ed5b76a0-91c0-43a3-b7fd-feae985d1208",
        "colab": {
          "base_uri": "https://localhost:8080/",
          "height": 170
        }
      },
      "source": [
        "#Feature Selection Discussion\n",
        "LRmodel_l1 = LogisticRegression(penalty=\"l1\")\n",
        "LRmodel_l1.fit(X, y)\n",
        "LRmodel_l1.coef_[0]\n",
        "print (\"Logistic Regression (L1) Coefficients\")\n",
        "for k,v in sorted(zip(map(lambda x: round(x, 5), LRmodel_l1.coef_[0]), \\\n",
        "                      churn_drop_df), key=lambda k_v:(-abs(k_v[0]),k_v[1])):\n",
        "    print (v + \": \" + str(k))"
      ],
      "execution_count": 0,
      "outputs": [
        {
          "output_type": "stream",
          "text": [
            "Logistic Regression (L1) Coefficients\n",
            "first_deposit_amount: -0.34469\n",
            "risk_tolerance: 0.21585\n",
            "platform: -0.1053\n",
            "liquidity_needs: -0.08968\n",
            "time_spent: -0.04836\n",
            "time_horizon: 0.03326\n",
            "instrument_type_first_traded: -0.0018\n",
            "investment_experience: -0.00123\n"
          ],
          "name": "stdout"
        }
      ]
    },
    {
      "cell_type": "code",
      "metadata": {
        "id": "WbCUiHqd-OdD",
        "colab_type": "code",
        "outputId": "0a624464-7efd-4c09-adea-83e7f5b773a3",
        "colab": {
          "base_uri": "https://localhost:8080/",
          "height": 170
        }
      },
      "source": [
        "LRmodel_l2 = LogisticRegression(penalty=\"l2\")\n",
        "LRmodel_l2.fit(X, y)\n",
        "LRmodel_l2.coef_[0]\n",
        "print (\"Logistic Regression (L2) Coefficients\")\n",
        "for k,v in sorted(zip(map(lambda x: round(x, 5), LRmodel_l2.coef_[0]), \\\n",
        "                      churn_drop_df.columns), key=lambda k_v:(-abs(k_v[0]),k_v[1])):\n",
        "    print (v + \": \" + str(k))"
      ],
      "execution_count": 0,
      "outputs": [
        {
          "output_type": "stream",
          "text": [
            "Logistic Regression (L2) Coefficients\n",
            "first_deposit_amount: -0.35696\n",
            "risk_tolerance: 0.21726\n",
            "platform: -0.11014\n",
            "liquidity_needs: -0.09422\n",
            "time_spent: -0.06089\n",
            "time_horizon: 0.03718\n",
            "investment_experience: -0.00665\n",
            "instrument_type_first_traded: -0.0059\n"
          ],
          "name": "stdout"
        }
      ]
    },
    {
      "cell_type": "code",
      "metadata": {
        "id": "L95MWQ3P-OdF",
        "colab_type": "code",
        "outputId": "77d9107f-50b3-4b8b-fdfc-9f9932ef099a",
        "colab": {
          "base_uri": "https://localhost:8080/",
          "height": 170
        }
      },
      "source": [
        "forest = RandomForestClassifier()\n",
        "forest.fit(X, y)\n",
        "\n",
        "importances = forest.feature_importances_\n",
        "\n",
        "# Print the feature ranking\n",
        "print(\"Feature importance ranking by Random Forest Model:\")\n",
        "for k,v in sorted(zip(map(lambda x: round(x, 4), importances), churn_drop_df.columns), reverse=True):\n",
        "    print (v + \": \" + str(k))"
      ],
      "execution_count": 0,
      "outputs": [
        {
          "output_type": "stream",
          "text": [
            "Feature importance ranking by Random Forest Model:\n",
            "time_spent: 0.5033\n",
            "first_deposit_amount: 0.2489\n",
            "investment_experience: 0.0627\n",
            "time_horizon: 0.0458\n",
            "risk_tolerance: 0.0368\n",
            "instrument_type_first_traded: 0.0355\n",
            "platform: 0.0353\n",
            "liquidity_needs: 0.0317\n"
          ],
          "name": "stdout"
        }
      ]
    },
    {
      "cell_type": "code",
      "metadata": {
        "scrolled": true,
        "id": "t0Q8-Yj5-OcT",
        "colab_type": "code",
        "outputId": "48d8a2a1-d317-41bc-c937-38d55b1a3731",
        "colab": {
          "base_uri": "https://localhost:8080/",
          "height": 360
        }
      },
      "source": [
        "!pip install catboost"
      ],
      "execution_count": 0,
      "outputs": [
        {
          "output_type": "stream",
          "text": [
            "Collecting catboost\n",
            "\u001b[?25l  Downloading https://files.pythonhosted.org/packages/7c/8d/ca8799e7b7cd1c5f84c1e92e6d3dd81ff03957211c959c0d4c027e95888a/catboost-0.20-cp36-none-manylinux1_x86_64.whl (63.6MB)\n",
            "\u001b[K     |████████████████████████████████| 63.6MB 33kB/s \n",
            "\u001b[?25hRequirement already satisfied: graphviz in /usr/local/lib/python3.6/dist-packages (from catboost) (0.10.1)\n",
            "Requirement already satisfied: six in /usr/local/lib/python3.6/dist-packages (from catboost) (1.12.0)\n",
            "Requirement already satisfied: pandas>=0.24.0 in /usr/local/lib/python3.6/dist-packages (from catboost) (0.25.3)\n",
            "Requirement already satisfied: matplotlib in /usr/local/lib/python3.6/dist-packages (from catboost) (3.1.2)\n",
            "Requirement already satisfied: numpy>=1.16.0 in /usr/local/lib/python3.6/dist-packages (from catboost) (1.17.4)\n",
            "Requirement already satisfied: plotly in /usr/local/lib/python3.6/dist-packages (from catboost) (4.1.1)\n",
            "Requirement already satisfied: scipy in /usr/local/lib/python3.6/dist-packages (from catboost) (1.3.3)\n",
            "Requirement already satisfied: pytz>=2017.2 in /usr/local/lib/python3.6/dist-packages (from pandas>=0.24.0->catboost) (2018.9)\n",
            "Requirement already satisfied: python-dateutil>=2.6.1 in /usr/local/lib/python3.6/dist-packages (from pandas>=0.24.0->catboost) (2.6.1)\n",
            "Requirement already satisfied: cycler>=0.10 in /usr/local/lib/python3.6/dist-packages (from matplotlib->catboost) (0.10.0)\n",
            "Requirement already satisfied: kiwisolver>=1.0.1 in /usr/local/lib/python3.6/dist-packages (from matplotlib->catboost) (1.1.0)\n",
            "Requirement already satisfied: pyparsing!=2.0.4,!=2.1.2,!=2.1.6,>=2.0.1 in /usr/local/lib/python3.6/dist-packages (from matplotlib->catboost) (2.4.5)\n",
            "Requirement already satisfied: retrying>=1.3.3 in /usr/local/lib/python3.6/dist-packages (from plotly->catboost) (1.3.3)\n",
            "Requirement already satisfied: setuptools in /usr/local/lib/python3.6/dist-packages (from kiwisolver>=1.0.1->matplotlib->catboost) (42.0.1)\n",
            "Installing collected packages: catboost\n",
            "Successfully installed catboost-0.20\n"
          ],
          "name": "stdout"
        }
      ]
    },
    {
      "cell_type": "code",
      "metadata": {
        "id": "A7MWlvZOJ__Q",
        "colab_type": "code",
        "colab": {}
      },
      "source": [
        "#XGboost\n",
        "import xgboost as xgb\n",
        "import lightgbm as lgb\n",
        "import catboost\n",
        "clf = xgb.XGBClassifier(\n",
        "        n_estimators=500,\n",
        "        max_depth=9,\n",
        "        learning_rate=0.05,\n",
        "        subsample=0.9,\n",
        "        colsample_bytree=0.9,\n",
        "        gamma = 0.2,\n",
        "        alpha = 4,\n",
        "        tree_method='hist')"
      ],
      "execution_count": 0,
      "outputs": []
    },
    {
      "cell_type": "code",
      "metadata": {
        "id": "VhECzGleKFIz",
        "colab_type": "code",
        "outputId": "ec6d0685-af0a-4b2f-d25a-7832168c10ec",
        "colab": {
          "base_uri": "https://localhost:8080/",
          "height": 136
        }
      },
      "source": [
        "clf.fit(X_train, y_train)"
      ],
      "execution_count": 0,
      "outputs": [
        {
          "output_type": "execute_result",
          "data": {
            "text/plain": [
              "XGBClassifier(alpha=4, base_score=0.5, booster='gbtree', colsample_bylevel=1,\n",
              "              colsample_bynode=1, colsample_bytree=0.9, gamma=0.2,\n",
              "              learning_rate=0.05, max_delta_step=0, max_depth=9,\n",
              "              min_child_weight=1, missing=None, n_estimators=500, n_jobs=1,\n",
              "              nthread=None, objective='binary:logistic', random_state=0,\n",
              "              reg_alpha=0, reg_lambda=1, scale_pos_weight=1, seed=None,\n",
              "              silent=None, subsample=0.9, tree_method='hist', verbosity=1)"
            ]
          },
          "metadata": {
            "tags": []
          },
          "execution_count": 73
        }
      ]
    },
    {
      "cell_type": "code",
      "metadata": {
        "id": "9j_FcqnPKkRk",
        "colab_type": "code",
        "outputId": "ba835470-c792-4ef1-ee08-573b16593760",
        "colab": {
          "base_uri": "https://localhost:8080/",
          "height": 357
        }
      },
      "source": [
        "confusion_matrices = [\n",
        "    (\"XGboost\", confusion_matrix(y_test,clf.predict(X_test)))]\n",
        "\n",
        "draw_confusion_matrices(confusion_matrices)"
      ],
      "execution_count": 0,
      "outputs": [
        {
          "output_type": "stream",
          "text": [
            "XGboost\n",
            "Accuracy is: 0.904\n",
            "precision is: 0.062\n",
            "recall is: 0.078\n"
          ],
          "name": "stdout"
        },
        {
          "output_type": "display_data",
          "data": {
            "image/png": "[encoded data removed]",
            "text/plain": [
              "<Figure size 432x288 with 2 Axes>"
            ]
          },
          "metadata": {
            "tags": []
          }
        }
      ]
    },
    {
      "cell_type": "code",
      "metadata": {
        "id": "qqbZobYLLCeJ",
        "colab_type": "code",
        "outputId": "14535034-beee-4290-bf74-318d2cae92c2",
        "colab": {
          "base_uri": "https://localhost:8080/",
          "height": 295
        }
      },
      "source": [
        "#ROC of XGBoost\n",
        "from sklearn.metrics import roc_curve\n",
        "from sklearn import metrics\n",
        "y_pred_XGB = clf.predict_proba(X_test)[:, 1]\n",
        "fpr_rf, tpr_rf, _ = roc_curve(y_test, y_pred_XGB)\n",
        "plt.figure(1)\n",
        "plt.plot([0, 1], [0, 1], 'k--')\n",
        "plt.plot(fpr_rf, tpr_rf, label='XGB')\n",
        "plt.xlabel('False positive rate')\n",
        "plt.ylabel('True positive rate')\n",
        "plt.title('ROC curve - XGBoost')\n",
        "plt.legend(loc='best')\n",
        "plt.show()"
      ],
      "execution_count": 0,
      "outputs": [
        {
          "output_type": "display_data",
          "data": {
            "image/png": "[encoded data removed]",
            "text/plain": [
              "<Figure size 432x288 with 1 Axes>"
            ]
          },
          "metadata": {
            "tags": []
          }
        }
      ]
    },
    {
      "cell_type": "code",
      "metadata": {
        "id": "RrI_6xUfLQ3M",
        "colab_type": "code",
        "outputId": "1f48a59b-b4f5-49da-bc14-e6c6c9c553cb",
        "colab": {
          "base_uri": "https://localhost:8080/",
          "height": 34
        }
      },
      "source": [
        "metrics.auc(fpr_lr,tpr_lr)"
      ],
      "execution_count": 0,
      "outputs": [
        {
          "output_type": "execute_result",
          "data": {
            "text/plain": [
              "0.6260254570871501"
            ]
          },
          "metadata": {
            "tags": []
          },
          "execution_count": 81
        }
      ]
    },
    {
      "cell_type": "code",
      "metadata": {
        "id": "AoBHBUgVLY3L",
        "colab_type": "code",
        "colab": {}
      },
      "source": [
        ""
      ],
      "execution_count": 0,
      "outputs": []
    }
  ]
}